{
 "cells": [
  {
   "cell_type": "code",
   "execution_count": 6,
   "metadata": {
    "ExecuteTime": {
     "end_time": "2021-01-06T15:36:58.798363Z",
     "start_time": "2021-01-06T15:36:58.795081Z"
    }
   },
   "outputs": [],
   "source": [
    "import numpy as np\n",
    "import matplotlib.pyplot as plt\n",
    "import xarray as xr\n",
    "from datetime import datetime as dt\n",
    "import sys,os,glob"
   ]
  },
  {
   "cell_type": "code",
   "execution_count": 2,
   "metadata": {
    "ExecuteTime": {
     "end_time": "2021-01-06T15:31:03.480898Z",
     "start_time": "2021-01-06T15:31:03.478288Z"
    }
   },
   "outputs": [],
   "source": [
    "indir_mtpw = '/Users/bfildier/Data/satellite/MIMIC-TPW2/data/'\n",
    "indir_sonde_qrad = '/Users/bfildier/Data/EUREC4A/merged/radiative_profiles'"
   ]
  },
  {
   "cell_type": "code",
   "execution_count": 4,
   "metadata": {
    "ExecuteTime": {
     "end_time": "2021-01-06T15:33:47.273337Z",
     "start_time": "2021-01-06T15:33:47.270581Z"
    }
   },
   "outputs": [],
   "source": [
    "date = '20200126'"
   ]
  },
  {
   "cell_type": "code",
   "execution_count": 8,
   "metadata": {
    "ExecuteTime": {
     "end_time": "2021-01-06T15:38:34.567192Z",
     "start_time": "2021-01-06T15:38:34.507077Z"
    }
   },
   "outputs": [],
   "source": [
    "radprf = xr.open_dataset(os.path.join(indir_sonde_qrad,'rad_profiles.nc'))"
   ]
  },
  {
   "cell_type": "code",
   "execution_count": 16,
   "metadata": {
    "ExecuteTime": {
     "end_time": "2021-01-06T15:48:43.387379Z",
     "start_time": "2021-01-06T15:48:43.380955Z"
    }
   },
   "outputs": [],
   "source": [
    "pw_0 = xr.open_dataset(pw_files[0])"
   ]
  },
  {
   "cell_type": "code",
   "execution_count": 18,
   "metadata": {
    "ExecuteTime": {
     "end_time": "2021-01-06T15:50:59.718745Z",
     "start_time": "2021-01-06T15:50:59.541416Z"
    }
   },
   "outputs": [
    {
     "data": {
      "text/html": [
       "<pre>&lt;xarray.Dataset&gt;\n",
       "Dimensions:             (lat: 721, lon: 1440, time: 0)\n",
       "Dimensions without coordinates: lat, lon, time\n",
       "Data variables:\n",
       "    lonArr              (time, lon) float32 \n",
       "    latArr              (time, lat) float32 \n",
       "    tpwGrid             (time, lat, lon) float32 \n",
       "    tpwGridPrior        (time, lat, lon) float32 \n",
       "    tpwGridSubseq       (time, lat, lon) float32 \n",
       "    timeAwayGridPrior   (time, lat, lon) timedelta64[ns] \n",
       "    timeAwayGridSubseq  (time, lat, lon) timedelta64[ns] \n",
       "    footGridPrior       (time, lat, lon) float32 \n",
       "    footGridSubseq      (time, lat, lon) float32 \n",
       "    satGridPrior        (time, lat, lon) uint8 \n",
       "    satGridSubseq       (time, lat, lon) uint8 </pre>"
      ],
      "text/plain": [
       "<xarray.Dataset>\n",
       "Dimensions:             (lat: 721, lon: 1440, time: 0)\n",
       "Dimensions without coordinates: lat, lon, time\n",
       "Data variables:\n",
       "    lonArr              (time, lon) float32 \n",
       "    latArr              (time, lat) float32 \n",
       "    tpwGrid             (time, lat, lon) float32 \n",
       "    tpwGridPrior        (time, lat, lon) float32 \n",
       "    tpwGridSubseq       (time, lat, lon) float32 \n",
       "    timeAwayGridPrior   (time, lat, lon) timedelta64[ns] \n",
       "    timeAwayGridSubseq  (time, lat, lon) timedelta64[ns] \n",
       "    footGridPrior       (time, lat, lon) float32 \n",
       "    footGridSubseq      (time, lat, lon) float32 \n",
       "    satGridPrior        (time, lat, lon) uint8 \n",
       "    satGridSubseq       (time, lat, lon) uint8 "
      ]
     },
     "execution_count": 18,
     "metadata": {},
     "output_type": "execute_result"
    }
   ],
   "source": [
    "# TODO : add time dimension (retrieve from filename and use datetime object) to snapshot and loop over all files to concatenate along time dimension\n",
    "pw_0.expand_dims({'time':0})"
   ]
  },
  {
   "cell_type": "code",
   "execution_count": null,
   "metadata": {
    "ExecuteTime": {
     "end_time": "2021-01-06T15:40:28.853114Z",
     "start_time": "2021-01-06T15:40:28.840576Z"
    }
   },
   "outputs": [],
   "source": []
  },
  {
   "cell_type": "code",
   "execution_count": null,
   "metadata": {
    "ExecuteTime": {
     "end_time": "2021-01-06T15:40:07.857171Z",
     "start_time": "2021-01-06T15:40:05.075Z"
    }
   },
   "outputs": [],
   "source": [
    "pw"
   ]
  },
  {
   "cell_type": "code",
   "execution_count": null,
   "metadata": {},
   "outputs": [],
   "source": []
  }
 ],
 "metadata": {
  "hide_input": false,
  "kernelspec": {
   "display_name": "Python 3",
   "language": "python",
   "name": "python3"
  },
  "language_info": {
   "codemirror_mode": {
    "name": "ipython",
    "version": 3
   },
   "file_extension": ".py",
   "mimetype": "text/x-python",
   "name": "python",
   "nbconvert_exporter": "python",
   "pygments_lexer": "ipython3",
   "version": "3.7.6"
  },
  "toc": {
   "base_numbering": 1,
   "nav_menu": {},
   "number_sections": true,
   "sideBar": true,
   "skip_h1_title": false,
   "title_cell": "Table of Contents",
   "title_sidebar": "Contents",
   "toc_cell": false,
   "toc_position": {},
   "toc_section_display": true,
   "toc_window_display": false
  },
  "varInspector": {
   "cols": {
    "lenName": 16,
    "lenType": 16,
    "lenVar": 40
   },
   "kernels_config": {
    "python": {
     "delete_cmd_postfix": "",
     "delete_cmd_prefix": "del ",
     "library": "var_list.py",
     "varRefreshCmd": "print(var_dic_list())"
    },
    "r": {
     "delete_cmd_postfix": ") ",
     "delete_cmd_prefix": "rm(",
     "library": "var_list.r",
     "varRefreshCmd": "cat(var_dic_list()) "
    }
   },
   "types_to_exclude": [
    "module",
    "function",
    "builtin_function_or_method",
    "instance",
    "_Feature"
   ],
   "window_display": false
  }
 },
 "nbformat": 4,
 "nbformat_minor": 4
}
