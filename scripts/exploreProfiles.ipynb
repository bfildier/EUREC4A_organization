{
 "cells": [
  {
   "cell_type": "code",
   "execution_count": 4,
   "metadata": {
    "ExecuteTime": {
     "end_time": "2021-01-14T14:11:31.609903Z",
     "start_time": "2021-01-14T14:11:30.207546Z"
    }
   },
   "outputs": [],
   "source": [
    "import numpy as np\n",
    "import matplotlib.pyplot as plt\n",
    "import xarray as xr\n",
    "from datetime import datetime as dt,timedelta\n",
    "import sys,os,glob\n",
    "import matplotlib.image as mpimg"
   ]
  },
  {
   "cell_type": "code",
   "execution_count": 5,
   "metadata": {
    "ExecuteTime": {
     "end_time": "2021-01-14T14:11:31.623316Z",
     "start_time": "2021-01-14T14:11:31.621218Z"
    }
   },
   "outputs": [],
   "source": [
    "indir_mtpw = '/Users/bfildier/Data/satellite/MIMIC-TPW2/data/'\n",
    "indir_goespw = '/Users/bfildier/Data/satellite/GOES-PW/'\n",
    "indir_sonde_qrad = '/Users/bfildier/Data/EUREC4A/merged/radiative_profiles'"
   ]
  },
  {
   "cell_type": "code",
   "execution_count": 6,
   "metadata": {
    "ExecuteTime": {
     "end_time": "2021-01-14T14:11:31.635530Z",
     "start_time": "2021-01-14T14:11:31.632828Z"
    }
   },
   "outputs": [],
   "source": [
    "day = '20200126'\n",
    "date = dt.strptime(day,'%Y%m%d')\n",
    "\n",
    "lat_box = 11,16\n",
    "lon_box = -60,-52"
   ]
  },
  {
   "cell_type": "code",
   "execution_count": 8,
   "metadata": {
    "ExecuteTime": {
     "end_time": "2021-01-14T14:12:43.333349Z",
     "start_time": "2021-01-14T14:12:43.330958Z"
    }
   },
   "outputs": [],
   "source": [
    "indir_goes_images = '/Users/bfildier/Data/satellite/GOES/images/%s'%date.strftime('%Y_%m_%d')"
   ]
  },
  {
   "cell_type": "code",
   "execution_count": 4,
   "metadata": {
    "ExecuteTime": {
     "end_time": "2021-01-12T08:52:26.772189Z",
     "start_time": "2021-01-12T08:52:26.686557Z"
    }
   },
   "outputs": [],
   "source": [
    "print('load rad profiles')\n",
    "radprf = xr.open_dataset(os.path.join(indir_sonde_qrad,'rad_profiles.nc'))"
   ]
  },
  {
   "cell_type": "code",
   "execution_count": 14,
   "metadata": {
    "ExecuteTime": {
     "end_time": "2021-01-13T13:18:20.210586Z",
     "start_time": "2021-01-13T13:18:20.116278Z"
    }
   },
   "outputs": [
    {
     "name": "stdout",
     "output_type": "stream",
     "text": [
      "convert times to datetime objects\n"
     ]
    }
   ],
   "source": [
    "print('convert times to datetime objects')\n",
    "timestamps = [int(lt/1e9) for lt in radprf.launch_time.values]\n",
    "times = [dt.fromtimestamp(ts)-timedelta(hours=1) for ts in timestamps] # removing 1 hour apparently necessary to match the original sonde time\n",
    "# double check that (t-dt(1970,1,1)).total_seconds() gives the same time stamp\n",
    "radprf = radprf.assign(launch_time=times) # reassign to object"
   ]
  },
  {
   "cell_type": "code",
   "execution_count": 24,
   "metadata": {
    "ExecuteTime": {
     "end_time": "2021-01-14T14:44:28.400897Z",
     "start_time": "2021-01-14T14:44:27.348242Z"
    }
   },
   "outputs": [
    {
     "name": "stdout",
     "output_type": "stream",
     "text": [
      "load GOES images\n"
     ]
    }
   ],
   "source": [
    "print('load GOES images')\n",
    "image_files = glob.glob(os.path.join(indir_goes_images,'*C02*00.jpg'))\n",
    "image_files.sort()\n",
    "\n",
    "images = []\n",
    "for i in range(len(image_files)):\n",
    "    images.append(mpimg.imread(image_files[16]))"
   ]
  },
  {
   "cell_type": "code",
   "execution_count": 7,
   "metadata": {
    "ExecuteTime": {
     "end_time": "2021-01-12T09:38:15.371310Z",
     "start_time": "2021-01-12T09:38:15.361142Z"
    }
   },
   "outputs": [],
   "source": [
    "print('load pw data')\n",
    "pw_mimic_files = glob.glob(os.path.join(indir_mtpw,'*comp%s.??????.nc'%date))\n",
    "pw_mimic_files.sort()\n",
    "\n",
    "pw_goes_files = glob.glob(os.path.join(indir_goespw,'00[2-5]/*.nc'))\n",
    "pw_goes_files.sort()"
   ]
  },
  {
   "cell_type": "code",
   "execution_count": 9,
   "metadata": {
    "ExecuteTime": {
     "end_time": "2021-01-12T09:39:02.143955Z",
     "start_time": "2021-01-12T09:38:57.652738Z"
    }
   },
   "outputs": [
    {
     "name": "stdout",
     "output_type": "stream",
     "text": [
      "load and concatenate all MIMIC TPW files for that day\n"
     ]
    }
   ],
   "source": [
    "print('load and concatenate all MIMIC TPW files for that day')\n",
    "\n",
    "# reference day time at the beginning of the year\n",
    "day_ref = dt(2020,1,1)\n",
    "\n",
    "all_pws = []\n",
    "\n",
    "for pw_file in pw_mimic_files:\n",
    "\n",
    "    pw_new = xr.open_dataset(pw_file)\n",
    "    pw_new = pw_new.set_coords(['lonArr','latArr'])\n",
    "    pw_new = pw_new.rename({'lonArr':'lon','latArr':'lat'})\n",
    "    \n",
    "    day_stamp = pw_file.split('.')[0][-8:]\n",
    "    time_stamp = pw_file.split('.')[1]\n",
    "    hour = (dt.strptime(time_stamp,'%H%M%S') - dt(1900, 1, 1))\n",
    "    daytime = day + hour\n",
    "    # time value to store in concatenated xarray\n",
    "    total_seconds = int((daytime - day_ref).total_seconds())\n",
    "    # expand dims to time dimension with new value\n",
    "    pw_new = pw_new.expand_dims({'time':1})\n",
    "    pw_new = pw_new.assign_coords({'time':[total_seconds]})\n",
    "    # store\n",
    "    all_pws.append(pw_new)\n",
    "    \n",
    "pw_mimic = xr.concat(all_pws,'time')"
   ]
  },
  {
   "cell_type": "code",
   "execution_count": 13,
   "metadata": {
    "ExecuteTime": {
     "end_time": "2021-01-12T09:46:46.459413Z",
     "start_time": "2021-01-12T09:46:46.455934Z"
    }
   },
   "outputs": [
    {
     "data": {
      "text/plain": [
       "'002'"
      ]
     },
     "execution_count": 13,
     "metadata": {},
     "output_type": "execute_result"
    }
   ],
   "source": [
    "pw_file = pw_goes_files[0]\n",
    "pw_subdir = pw_file.split('/')[-2]\n"
   ]
  },
  {
   "cell_type": "code",
   "execution_count": 10,
   "metadata": {
    "ExecuteTime": {
     "end_time": "2021-01-12T09:41:27.867280Z",
     "start_time": "2021-01-12T09:41:27.847529Z"
    }
   },
   "outputs": [
    {
     "data": {
      "text/html": [
       "<pre>&lt;xarray.Dataset&gt;\n",
       "Dimensions:             (lat: 721, lon: 1440, time: 24)\n",
       "Coordinates:\n",
       "  * lon                 (lon) float32 -180.0 -179.75 -179.5 ... 179.5 179.75\n",
       "  * lat                 (lat) float32 -90.0 -89.75 -89.5 ... 89.5 89.75 90.0\n",
       "  * time                (time) int64 2160000 2163600 2167200 ... 2239200 2242800\n",
       "Data variables:\n",
       "    tpwGrid             (time, lat, lon) float32 0.8125 0.8125 ... 1.375 1.375\n",
       "    tpwGridPrior        (time, lat, lon) float32 0.8125 0.8125 ... 1.5 1.5\n",
       "    tpwGridSubseq       (time, lat, lon) float32 0.8125 0.8125 ... 1.375 1.375\n",
       "    timeAwayGridPrior   (time, lat, lon) timedelta64[ns] 00:40:00 ... 01:16:00\n",
       "    timeAwayGridSubseq  (time, lat, lon) timedelta64[ns] 00:10:00 ... 00:00:00\n",
       "    footGridPrior       (time, lat, lon) float32 34.0 34.0 34.0 ... 35.0 35.0\n",
       "    footGridSubseq      (time, lat, lon) float32 34.0 34.0 34.0 ... 34.0 34.0\n",
       "    satGridPrior        (time, lat, lon) uint8 3 3 3 3 3 3 3 3 ... 4 4 4 4 4 4 4\n",
       "    satGridSubseq       (time, lat, lon) uint8 6 6 6 6 6 6 6 6 ... 6 6 6 6 6 6 6</pre>"
      ],
      "text/plain": [
       "<xarray.Dataset>\n",
       "Dimensions:             (lat: 721, lon: 1440, time: 24)\n",
       "Coordinates:\n",
       "  * lon                 (lon) float32 -180.0 -179.75 -179.5 ... 179.5 179.75\n",
       "  * lat                 (lat) float32 -90.0 -89.75 -89.5 ... 89.5 89.75 90.0\n",
       "  * time                (time) int64 2160000 2163600 2167200 ... 2239200 2242800\n",
       "Data variables:\n",
       "    tpwGrid             (time, lat, lon) float32 0.8125 0.8125 ... 1.375 1.375\n",
       "    tpwGridPrior        (time, lat, lon) float32 0.8125 0.8125 ... 1.5 1.5\n",
       "    tpwGridSubseq       (time, lat, lon) float32 0.8125 0.8125 ... 1.375 1.375\n",
       "    timeAwayGridPrior   (time, lat, lon) timedelta64[ns] 00:40:00 ... 01:16:00\n",
       "    timeAwayGridSubseq  (time, lat, lon) timedelta64[ns] 00:10:00 ... 00:00:00\n",
       "    footGridPrior       (time, lat, lon) float32 34.0 34.0 34.0 ... 35.0 35.0\n",
       "    footGridSubseq      (time, lat, lon) float32 34.0 34.0 34.0 ... 34.0 34.0\n",
       "    satGridPrior        (time, lat, lon) uint8 3 3 3 3 3 3 3 3 ... 4 4 4 4 4 4 4\n",
       "    satGridSubseq       (time, lat, lon) uint8 6 6 6 6 6 6 6 6 ... 6 6 6 6 6 6 6"
      ]
     },
     "execution_count": 10,
     "metadata": {},
     "output_type": "execute_result"
    }
   ],
   "source": [
    "print('load and concatenate all GOES TPW files for that day')\n",
    "\n",
    "all_pws = []\n",
    "\n",
    "for pw_file in pw_goes_files:\n",
    "\n",
    "    pw_new = xr.open_dataset(pw_file)\n",
    "    "
   ]
  },
  {
   "cell_type": "code",
   "execution_count": null,
   "metadata": {},
   "outputs": [],
   "source": []
  },
  {
   "cell_type": "code",
   "execution_count": 8,
   "metadata": {
    "ExecuteTime": {
     "end_time": "2021-01-08T14:04:55.263995Z",
     "start_time": "2021-01-08T14:04:55.076056Z"
    }
   },
   "outputs": [
    {
     "data": {
      "text/plain": [
       "<matplotlib.colorbar.Colorbar at 0x7fe5dab166d0>"
      ]
     },
     "execution_count": 8,
     "metadata": {},
     "output_type": "execute_result"
    },
    {
     "data": {
      "image/png": "[encoded data removed]",
      "text/plain": [
       "<Figure size 432x288 with 2 Axes>"
      ]
     },
     "metadata": {
      "needs_background": "light"
     },
     "output_type": "display_data"
    }
   ],
   "source": [
    "lat_inds = np.logical_and(pw.lat >= lat_box[0],pw.lat <= lat_box[1])\n",
    "lon_inds = np.logical_and(pw.lon >= lon_box[0],pw.lon <= lon_box[1])\n",
    "\n",
    "i_time = 15\n",
    "# cmap = 'nipy_spectral_r'\n",
    "# cmap = 'gist_stern_r'\n",
    "# cmap = 'bone_r'\n",
    "# cmap = 'magma_r'\n",
    "cmap = 'gist_ncar_r'\n",
    "\n",
    "dx = (lon_box[1]-lon_box[0])/2.\n",
    "dy = (lat_box[1]-lat_box[0])/2.\n",
    "extent = [lon_box[0]-dx, lon_box[-1]+dx, lat_box[0]-dy, lat_box[-1]+dy]\n",
    "\n",
    "h = plt.imshow(pw.tpwGrid[i_time,lat_inds,lon_inds],\n",
    "            origin='lower',\n",
    "            extent=extent,\n",
    "            cmap=cmap,\n",
    "            vmin=10,vmax=70)\n",
    "plt.colorbar(h)"
   ]
  },
  {
   "cell_type": "code",
   "execution_count": 9,
   "metadata": {
    "ExecuteTime": {
     "end_time": "2021-01-08T14:04:57.011889Z",
     "start_time": "2021-01-08T14:04:56.990251Z"
    }
   },
   "outputs": [
    {
     "data": {
      "text/html": [
       "<pre>&lt;xarray.Dataset&gt;\n",
       "Dimensions:            (launch_time: 2504, zlay: 1000, zlev: 1001)\n",
       "Coordinates:\n",
       "    lay                int32 ...\n",
       "    col                int32 ...\n",
       "  * zlay               (zlay) int64 5 15 25 35 45 ... 9955 9965 9975 9985 9995\n",
       "  * zlev               (zlev) int64 0 10 20 30 40 ... 9960 9970 9980 9990 10000\n",
       "  * launch_time        (launch_time) datetime64[ns] 2020-01-19T16:55:14 ... 2020-02-16T04:14:33\n",
       "    play               (launch_time, zlay) float64 ...\n",
       "    plev               (launch_time, zlev) float64 ...\n",
       "Data variables:\n",
       "    latitude           (launch_time, zlay) float64 ...\n",
       "    longitude          (launch_time, zlay) float64 ...\n",
       "    platform           (launch_time) object ...\n",
       "    z_min              (launch_time) float64 ...\n",
       "    z_max              (launch_time) float64 ...\n",
       "    tlay               (launch_time, zlay) float64 ...\n",
       "    h2o                (launch_time, zlay) float64 ...\n",
       "    sfc_emis           (launch_time) float64 ...\n",
       "    sfc_alb            (launch_time) float64 ...\n",
       "    sfc_t              (launch_time) float64 ...\n",
       "    cos_sza            (launch_time) float64 ...\n",
       "    lw_dn              (launch_time, zlev) float64 ...\n",
       "    lw_up              (launch_time, zlev) float64 ...\n",
       "    lw_net             (launch_time, zlev) float64 ...\n",
       "    sw_dn              (launch_time, zlev) float64 ...\n",
       "    sw_up              (launch_time, zlev) float64 ...\n",
       "    sw_net             (launch_time, zlev) float64 ...\n",
       "    relative_humidity  (launch_time, zlay) float64 ...\n",
       "    wind_speed         (launch_time, zlay) float64 ...\n",
       "    wind_direction     (launch_time, zlay) float64 ...\n",
       "    u_wind             (launch_time, zlay) float64 ...\n",
       "    v_wind             (launch_time, zlay) float64 ...\n",
       "    co2                (launch_time, zlay) float64 ...\n",
       "    ch4                (launch_time, zlay) float64 ...\n",
       "    n2o                (launch_time, zlay) float64 ...\n",
       "    o3                 (launch_time, zlay) float64 ...\n",
       "    o2                 (launch_time, zlay) float64 ...\n",
       "    n2                 (launch_time, zlay) float64 ...\n",
       "    co                 (launch_time, zlay) float64 ...\n",
       "    mr                 (launch_time, zlay) float64 ...\n",
       "    rho                (launch_time, zlay) float64 ...\n",
       "    q_rad              (launch_time, zlay) float64 ...\n",
       "    q_rad_lw           (launch_time, zlay) float64 ...\n",
       "    q_rad_sw           (launch_time, zlay) float64 ...</pre>"
      ],
      "text/plain": [
       "<xarray.Dataset>\n",
       "Dimensions:            (launch_time: 2504, zlay: 1000, zlev: 1001)\n",
       "Coordinates:\n",
       "    lay                int32 ...\n",
       "    col                int32 ...\n",
       "  * zlay               (zlay) int64 5 15 25 35 45 ... 9955 9965 9975 9985 9995\n",
       "  * zlev               (zlev) int64 0 10 20 30 40 ... 9960 9970 9980 9990 10000\n",
       "  * launch_time        (launch_time) datetime64[ns] 2020-01-19T16:55:14 ... 2020-02-16T04:14:33\n",
       "    play               (launch_time, zlay) float64 ...\n",
       "    plev               (launch_time, zlev) float64 ...\n",
       "Data variables:\n",
       "    latitude           (launch_time, zlay) float64 ...\n",
       "    longitude          (launch_time, zlay) float64 ...\n",
       "    platform           (launch_time) object ...\n",
       "    z_min              (launch_time) float64 ...\n",
       "    z_max              (launch_time) float64 ...\n",
       "    tlay               (launch_time, zlay) float64 ...\n",
       "    h2o                (launch_time, zlay) float64 ...\n",
       "    sfc_emis           (launch_time) float64 ...\n",
       "    sfc_alb            (launch_time) float64 ...\n",
       "    sfc_t              (launch_time) float64 ...\n",
       "    cos_sza            (launch_time) float64 ...\n",
       "    lw_dn              (launch_time, zlev) float64 ...\n",
       "    lw_up              (launch_time, zlev) float64 ...\n",
       "    lw_net             (launch_time, zlev) float64 ...\n",
       "    sw_dn              (launch_time, zlev) float64 ...\n",
       "    sw_up              (launch_time, zlev) float64 ...\n",
       "    sw_net             (launch_time, zlev) float64 ...\n",
       "    relative_humidity  (launch_time, zlay) float64 ...\n",
       "    wind_speed         (launch_time, zlay) float64 ...\n",
       "    wind_direction     (launch_time, zlay) float64 ...\n",
       "    u_wind             (launch_time, zlay) float64 ...\n",
       "    v_wind             (launch_time, zlay) float64 ...\n",
       "    co2                (launch_time, zlay) float64 ...\n",
       "    ch4                (launch_time, zlay) float64 ...\n",
       "    n2o                (launch_time, zlay) float64 ...\n",
       "    o3                 (launch_time, zlay) float64 ...\n",
       "    o2                 (launch_time, zlay) float64 ...\n",
       "    n2                 (launch_time, zlay) float64 ...\n",
       "    co                 (launch_time, zlay) float64 ...\n",
       "    mr                 (launch_time, zlay) float64 ...\n",
       "    rho                (launch_time, zlay) float64 ...\n",
       "    q_rad              (launch_time, zlay) float64 ...\n",
       "    q_rad_lw           (launch_time, zlay) float64 ...\n",
       "    q_rad_sw           (launch_time, zlay) float64 ..."
      ]
     },
     "execution_count": 9,
     "metadata": {},
     "output_type": "execute_result"
    }
   ],
   "source": [
    "radprf"
   ]
  },
  {
   "cell_type": "code",
   "execution_count": 39,
   "metadata": {
    "ExecuteTime": {
     "end_time": "2021-01-08T14:39:47.752674Z",
     "start_time": "2021-01-08T14:39:47.621126Z"
    }
   },
   "outputs": [
    {
     "name": "stdout",
     "output_type": "stream",
     "text": [
      "calculate pw for each sonde\n"
     ]
    }
   ],
   "source": [
    "print(\"calculate pw for each sonde\")\n",
    "\n",
    "# mask_40m = radprf.z_min <= 40\n",
    "\n",
    "q = radprf.h2o[mask_40m]\n",
    "plev = radprf.plev[mask_40m]\n",
    "dplev = -np.diff(plev,axis=1)\n",
    "pw = (q*dplev/9.81).sum(axis=1)"
   ]
  },
  {
   "cell_type": "code",
   "execution_count": 41,
   "metadata": {
    "ExecuteTime": {
     "end_time": "2021-01-08T14:41:02.898747Z",
     "start_time": "2021-01-08T14:41:02.760760Z"
    },
    "scrolled": true
   },
   "outputs": [
    {
     "data": {
      "text/plain": [
       "[<matplotlib.lines.Line2D at 0x7fe59d4d8610>]"
      ]
     },
     "execution_count": 41,
     "metadata": {},
     "output_type": "execute_result"
    },
    {
     "data": {
      "image/png": "[encoded data removed]",
      "text/plain": [
       "<Figure size 432x288 with 1 Axes>"
      ]
     },
     "metadata": {
      "needs_background": "light"
     },
     "output_type": "display_data"
    }
   ],
   "source": [
    "pw.plot()"
   ]
  }
 ],
 "metadata": {
  "hide_input": false,
  "kernelspec": {
   "display_name": "Python 3",
   "language": "python",
   "name": "python3"
  },
  "language_info": {
   "codemirror_mode": {
    "name": "ipython",
    "version": 3
   },
   "file_extension": ".py",
   "mimetype": "text/x-python",
   "name": "python",
   "nbconvert_exporter": "python",
   "pygments_lexer": "ipython3",
   "version": "3.7.6"
  },
  "toc": {
   "base_numbering": 1,
   "nav_menu": {},
   "number_sections": true,
   "sideBar": true,
   "skip_h1_title": false,
   "title_cell": "Table of Contents",
   "title_sidebar": "Contents",
   "toc_cell": false,
   "toc_position": {},
   "toc_section_display": true,
   "toc_window_display": false
  },
  "varInspector": {
   "cols": {
    "lenName": 16,
    "lenType": 16,
    "lenVar": 40
   },
   "kernels_config": {
    "python": {
     "delete_cmd_postfix": "",
     "delete_cmd_prefix": "del ",
     "library": "var_list.py",
     "varRefreshCmd": "print(var_dic_list())"
    },
    "r": {
     "delete_cmd_postfix": ") ",
     "delete_cmd_prefix": "rm(",
     "library": "var_list.r",
     "varRefreshCmd": "cat(var_dic_list()) "
    }
   },
   "types_to_exclude": [
    "module",
    "function",
    "builtin_function_or_method",
    "instance",
    "_Feature"
   ],
   "window_display": false
  }
 },
 "nbformat": 4,
 "nbformat_minor": 4
}
