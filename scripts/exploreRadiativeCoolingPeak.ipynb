{
 "cells": [
  {
   "cell_type": "code",
   "execution_count": 99,
   "metadata": {
    "ExecuteTime": {
     "end_time": "2021-01-13T15:07:45.797531Z",
     "start_time": "2021-01-13T15:07:45.792353Z"
    }
   },
   "outputs": [],
   "source": [
    "import numpy as np\n",
    "import matplotlib\n",
    "import matplotlib.pyplot as plt\n",
    "from matplotlib import gridspec\n",
    "import xarray as xr\n",
    "import pandas as pd\n",
    "import pytz\n",
    "from datetime import datetime as dt,timedelta\n",
    "import sys,os,glob\n",
    "import IPython\n",
    "from matplotlib import cm\n",
    "\n",
    "import cartopy.crs as ccrs\n",
    "\n",
    "## Graphical parameters\n",
    "plt.style.use(os.path.join(matplotlib.get_configdir(),'stylelib/presentation.mplstyle'))"
   ]
  },
  {
   "cell_type": "code",
   "execution_count": 117,
   "metadata": {
    "ExecuteTime": {
     "end_time": "2021-01-13T15:56:49.316001Z",
     "start_time": "2021-01-13T15:56:49.311891Z"
    }
   },
   "outputs": [],
   "source": [
    "workdir = os.getcwd()\n",
    "rootdir = os.path.dirname(workdir)\n",
    "figdir = os.path.join(rootdir,'figures','exploreRadiativeCoolingPeak')\n",
    "if not os.path.exists(figdir): os.makedirs(figdir)"
   ]
  },
  {
   "cell_type": "code",
   "execution_count": 118,
   "metadata": {
    "ExecuteTime": {
     "end_time": "2021-01-13T15:56:54.910099Z",
     "start_time": "2021-01-13T15:56:54.907970Z"
    }
   },
   "outputs": [],
   "source": [
    "indir_sonde_qrad = '/Users/bfildier/Data/EUREC4A/merged/radiative_profiles'"
   ]
  },
  {
   "cell_type": "code",
   "execution_count": 119,
   "metadata": {
    "ExecuteTime": {
     "end_time": "2021-01-13T15:58:03.066356Z",
     "start_time": "2021-01-13T15:58:03.063634Z"
    }
   },
   "outputs": [],
   "source": [
    "date = '20200126'\n",
    "day = dt.strptime(date,'%Y%m%d')\n",
    "\n",
    "lat_box = 11,16\n",
    "lon_box = -60,-52"
   ]
  },
  {
   "cell_type": "code",
   "execution_count": 4,
   "metadata": {
    "ExecuteTime": {
     "end_time": "2021-01-13T14:00:20.032605Z",
     "start_time": "2021-01-13T14:00:19.975769Z"
    }
   },
   "outputs": [
    {
     "name": "stdout",
     "output_type": "stream",
     "text": [
      "load rad profiles\n"
     ]
    }
   ],
   "source": [
    "print('load rad profiles')\n",
    "radprf = xr.open_dataset(os.path.join(indir_sonde_qrad,'rad_profiles.nc'))"
   ]
  },
  {
   "cell_type": "code",
   "execution_count": 5,
   "metadata": {
    "ExecuteTime": {
     "end_time": "2021-01-13T14:00:20.313451Z",
     "start_time": "2021-01-13T14:00:20.288663Z"
    }
   },
   "outputs": [
    {
     "name": "stdout",
     "output_type": "stream",
     "text": [
      "convert times to datetime objects\n"
     ]
    }
   ],
   "source": [
    "print('convert times to datetime objects')\n",
    "timestamps = [int(lt/1e9) for lt in radprf.launch_time.values]\n",
    "times = [dt.fromtimestamp(ts)-timedelta(hours=1) for ts in timestamps] # removing 1 hour apparently necessary to match the original sonde time\n",
    "# double check that (t-dt(1970,1,1)).total_seconds() gives the same time stamp\n",
    "radprf = radprf.assign(launch_time=times) # reassign to object"
   ]
  },
  {
   "cell_type": "code",
   "execution_count": 6,
   "metadata": {
    "ExecuteTime": {
     "end_time": "2021-01-13T14:00:21.465377Z",
     "start_time": "2021-01-13T14:00:21.439730Z"
    }
   },
   "outputs": [
    {
     "name": "stdout",
     "output_type": "stream",
     "text": [
      "removing 1 hour apparently necessary to match the original sonde time\n"
     ]
    },
    {
     "data": {
      "text/html": [
       "<pre>&lt;xarray.DataArray &#x27;launch_time&#x27; (launch_time: 2522)&gt;\n",
       "array([&#x27;2020-01-19T16:55:14.000000000&#x27;, &#x27;2020-01-19T17:21:54.000000000&#x27;,\n",
       "       &#x27;2020-01-19T17:33:12.000000000&#x27;, ..., &#x27;2020-02-16T00:18:14.000000000&#x27;,\n",
       "       &#x27;2020-02-16T02:43:46.000000000&#x27;, &#x27;2020-02-16T04:14:33.000000000&#x27;],\n",
       "      dtype=&#x27;datetime64[ns]&#x27;)\n",
       "Coordinates:\n",
       "  * launch_time  (launch_time) datetime64[ns] 2020-01-19T16:55:14 ... 2020-02-16T04:14:33</pre>"
      ],
      "text/plain": [
       "<xarray.DataArray 'launch_time' (launch_time: 2522)>\n",
       "array(['2020-01-19T16:55:14.000000000', '2020-01-19T17:21:54.000000000',\n",
       "       '2020-01-19T17:33:12.000000000', ..., '2020-02-16T00:18:14.000000000',\n",
       "       '2020-02-16T02:43:46.000000000', '2020-02-16T04:14:33.000000000'],\n",
       "      dtype='datetime64[ns]')\n",
       "Coordinates:\n",
       "  * launch_time  (launch_time) datetime64[ns] 2020-01-19T16:55:14 ... 2020-02-16T04:14:33"
      ]
     },
     "execution_count": 6,
     "metadata": {},
     "output_type": "execute_result"
    }
   ],
   "source": [
    "print('removing 1 hour apparently necessary to match the original sonde time')\n",
    "sondes = xr.open_dataset('/Users/bfildier/Data/EUREC4A/merged/sondes/all_sondes.nc')\n",
    "sondes.launch_time"
   ]
  },
  {
   "cell_type": "markdown",
   "metadata": {},
   "source": [
    "# Show profiles for one day"
   ]
  },
  {
   "cell_type": "markdown",
   "metadata": {},
   "source": [
    "## Select profiles"
   ]
  },
  {
   "cell_type": "code",
   "execution_count": 7,
   "metadata": {
    "ExecuteTime": {
     "end_time": "2021-01-13T14:00:25.430964Z",
     "start_time": "2021-01-13T14:00:24.581872Z"
    }
   },
   "outputs": [
    {
     "name": "stdout",
     "output_type": "stream",
     "text": [
      "choose profiles for that day that start at bottom\n"
     ]
    }
   ],
   "source": [
    "print('choose profiles for that day that start at bottom')\n",
    "data_day = radprf.where(radprf.z_min<=50,drop=True).sel(launch_time=date)"
   ]
  },
  {
   "cell_type": "code",
   "execution_count": 86,
   "metadata": {
    "ExecuteTime": {
     "end_time": "2021-01-13T14:46:48.534972Z",
     "start_time": "2021-01-13T14:46:48.404865Z"
    }
   },
   "outputs": [
    {
     "name": "stdout",
     "output_type": "stream",
     "text": [
      "<xarray.DataArray 'longitude' (launch_time: 3)>\n",
      "array([-59.42916599, -57.25125966, -58.34474472])\n",
      "Coordinates:\n",
      "    lay          int32 1\n",
      "    col          int32 1\n",
      "    zlay         int64 55\n",
      "  * launch_time  (launch_time) datetime64[ns] 2020-01-26T06:45:08 ... 2020-01-26T06:59:11\n",
      "    play         (launch_time) float64 1.008e+05 1.009e+05 1.006e+05 <xarray.DataArray 'latitude' (launch_time: 3)>\n",
      "array([13.16245306, 12.71318827,  9.72310563])\n",
      "Coordinates:\n",
      "    lay          int32 1\n",
      "    col          int32 1\n",
      "    zlay         int64 55\n",
      "  * launch_time  (launch_time) datetime64[ns] 2020-01-26T06:45:08 ... 2020-01-26T06:59:11\n",
      "    play         (launch_time) float64 1.008e+05 1.009e+05 1.006e+05\n"
     ]
    },
    {
     "data": {
      "image/png": "[encoded data removed]",
      "text/plain": [
       "<Figure size 576x360 with 1 Axes>"
      ]
     },
     "metadata": {
      "needs_background": "light"
     },
     "output_type": "display_data"
    }
   ],
   "source": [
    "i_h = 6\n",
    "\n",
    "time_init = dt(2020,1,26)\n",
    "timedelta(hours=i_h)\n",
    "\n",
    "mask_hour = np.logical_and(times > time_init+timedelta(hours=i_h), times <= time_init+timedelta(hours=i_h+1))\n",
    "data_hour = data_day.sel(launch_time=mask_hour)\n",
    "\n",
    "# data_hour.latitude.dropna(dim='zlay')[:,0]\n",
    "\n",
    "fig,ax = plt.subplots(subplot_kw={'projection':ccrs.PlateCarree()},figsize=(np.diff(lon_box),np.diff(lat_box)))\n",
    "\n",
    "ax.coastlines(resolution='50m')\n",
    "ax.set_extent([*lon_box,*lat_box])\n",
    "gl = ax.gridlines(color='Grey',draw_labels=True)\n",
    "# gl.xlabel_style = {'size': 16}\n",
    "# gl.ylabel_style = {'size': 16}\n",
    "\n",
    "x_s = data_hour.longitude.dropna(dim='zlay')[:,0]\n",
    "y_s = data_hour.latitude.dropna(dim='zlay')[:,0]\n",
    "print(x_s,y_s)\n",
    "m = ax.scatter(x_s,y_s,marker='o',color='crimson',alpha=0.6,s=80,label='Dropsondes')\n"
   ]
  },
  {
   "cell_type": "code",
   "execution_count": 137,
   "metadata": {
    "ExecuteTime": {
     "end_time": "2021-01-13T16:20:30.911984Z",
     "start_time": "2021-01-13T16:20:30.908106Z"
    }
   },
   "outputs": [
    {
     "data": {
      "text/plain": [
       "[(0, 0, 127, 255), (124, 255, 121, 255), (127, 0, 0, 255)]"
      ]
     },
     "execution_count": 137,
     "metadata": {},
     "output_type": "execute_result"
    }
   ],
   "source": [
    "cols"
   ]
  },
  {
   "cell_type": "code",
   "execution_count": 143,
   "metadata": {
    "ExecuteTime": {
     "end_time": "2021-01-13T16:27:29.565783Z",
     "start_time": "2021-01-13T16:27:29.315096Z"
    }
   },
   "outputs": [
    {
     "data": {
      "text/plain": [
       "Text(0, 0.5, 'Latitude')"
      ]
     },
     "execution_count": 143,
     "metadata": {},
     "output_type": "execute_result"
    },
    {
     "data": {
      "image/png": "[encoded data removed]",
      "text/plain": [
       "<Figure size 864x360 with 2 Axes>"
      ]
     },
     "metadata": {
      "needs_background": "light"
     },
     "output_type": "display_data"
    }
   ],
   "source": [
    "print('example for given hour slice')\n",
    "\n",
    "i_h = 6\n",
    "\n",
    "time_init = dt(2020,1,26)\n",
    "timedelta(hours=i_h)\n",
    "\n",
    "mask_hour = np.logical_and(times > time_init+timedelta(hours=i_h), times <= time_init+timedelta(hours=i_h+1))\n",
    "data_hour = data_day.sel(launch_time=mask_hour)\n",
    "\n",
    "cols = [plt.cm.nipy_spectral(x) for x in np.linspace(0,1,data_hour.dims['launch_time'])]\n",
    "\n",
    "fig = plt.figure(figsize=(np.diff(lon_box)*3/2,np.diff(lat_box)))\n",
    "gs = gridspec.GridSpec(1, 2, width_ratios=[1, 2])\n",
    "\n",
    "## (a) Q_rad profiles\n",
    "\n",
    "ax = plt.subplot(gs[0])\n",
    "for i_lt in range(data_hour.dims['launch_time']):\n",
    "    ax.plot(data_day.q_rad[i_lt],data_day.zlay/1e3,alpha=1,c=cols[i_lt])\n",
    "    \n",
    "ax.set_xlabel(r'$Q_{rad}$ (K/day)')\n",
    "ax.set_ylabel(r'z (km)')\n",
    "\n",
    "## (b) sonde location\n",
    "    \n",
    "ax = plt.subplot(gs[1],projection=ccrs.PlateCarree())\n",
    "ax.coastlines(resolution='50m')\n",
    "ax.set_extent([*lon_box,*lat_box])\n",
    "gl = ax.gridlines(color='Grey',draw_labels=True)\n",
    "# gl.xlabel_style = {'size': 16}\n",
    "# gl.ylabel_style = {'size': 16}\n",
    "\n",
    "x_s = data_hour.longitude.dropna(dim='zlay')[:,0]\n",
    "y_s = data_hour.latitude.dropna(dim='zlay')[:,0]\n",
    "col = plt.rcParams['axes.prop_cycle'].by_key()['color'][:x_s.size]\n",
    "\n",
    "for i_s in range(x_s.size):\n",
    "    \n",
    "    ax.scatter(x_s[i_s],y_s[i_s],marker='o',color=cols[i_s],alpha=0.9,s=80,label='Dropsondes')\n",
    "\n",
    "ax.set_xlabel(r'Longitude')\n",
    "ax.set_ylabel(r'Latitude')\n"
   ]
  },
  {
   "cell_type": "code",
   "execution_count": 145,
   "metadata": {
    "ExecuteTime": {
     "end_time": "2021-01-13T16:28:51.561063Z",
     "start_time": "2021-01-13T16:28:44.473023Z"
    }
   },
   "outputs": [
    {
     "name": "stdout",
     "output_type": "stream",
     "text": [
      "0\n",
      "1\n",
      "2\n",
      "3\n",
      "4\n",
      "5\n",
      "6\n",
      "7\n",
      "8\n",
      "9\n",
      "10\n",
      "11\n",
      "12\n",
      "13\n",
      "14\n",
      "15\n",
      "16\n",
      "17\n",
      "18\n",
      "19\n",
      "20\n",
      "21\n",
      "22\n",
      "23\n"
     ]
    }
   ],
   "source": [
    "print(\"display for all hours on that day\")\n",
    "\n",
    "times = np.array([dt.strptime(str(d)[:19],'%Y-%m-%dT%H:%M:%S') for d in data_day.launch_time.values])\n",
    "\n",
    "for i_h in range(24):\n",
    "    \n",
    "    print(i_h)\n",
    "    \n",
    "    time_init = dt(2020,1,26)\n",
    "    time_current = time_init+timedelta(hours=i_h)\n",
    "    time_label = time_current.strftime(\"%Y%m%d_%H\")\n",
    "    \n",
    "    mask_hour = np.logical_and(times > time_init+timedelta(hours=i_h), times <= time_init+timedelta(hours=i_h+1))\n",
    "    data_hour = data_day.sel(launch_time=mask_hour)\n",
    "    \n",
    "    ###--- Plot ---###\n",
    "    \n",
    "    cols = [plt.cm.nipy_spectral(x) for x in np.linspace(0,1,data_hour.dims['launch_time'])]\n",
    "    \n",
    "    fig = plt.figure(figsize=(np.diff(lon_box)*3/2,np.diff(lat_box))) \n",
    "    gs = gridspec.GridSpec(1, 2, width_ratios=[1, 2])\n",
    "\n",
    "    ## (a) Q_rad profiles\n",
    "\n",
    "    ax = plt.subplot(gs[0])\n",
    "    for i_lt in range(data_hour.dims['launch_time']):\n",
    "        ax.plot(data_day.q_rad[i_lt],data_day.zlay/1e3,alpha=1,c=cols[i_lt])\n",
    "\n",
    "    ax.set_xlabel(r'$Q_{rad}$ (K/day)')\n",
    "    ax.set_ylabel(r'z (km)')\n",
    "\n",
    "    ## (b) sonde location\n",
    "\n",
    "    ax = plt.subplot(gs[1],projection=ccrs.PlateCarree())\n",
    "    ax.coastlines(resolution='50m')\n",
    "    ax.set_extent([*lon_box,*lat_box])\n",
    "    gl = ax.gridlines(color='Grey',draw_labels=True)\n",
    "    # gl.xlabel_style = {'size': 16}\n",
    "    # gl.ylabel_style = {'size': 16}\n",
    "\n",
    "    x_s = data_hour.longitude.dropna(dim='zlay')[:,0]\n",
    "    y_s = data_hour.latitude.dropna(dim='zlay')[:,0]\n",
    "    col = plt.rcParams['axes.prop_cycle'].by_key()['color'][:x_s.size]\n",
    "\n",
    "    for i_s in range(x_s.size):\n",
    "\n",
    "        ax.scatter(x_s[i_s],y_s[i_s],marker='o',color=cols[i_s],alpha=0.9,s=80,label='Dropsondes')\n",
    "\n",
    "    ax.set_xlabel(r'Longitude')\n",
    "    ax.set_ylabel(r'Latitude')\n",
    "\n",
    "    plt.savefig(os.path.join(figdir,'qrad_profile_and_position_%s.pdf'%time_label),bbox_inches='tight')\n",
    "#     plt.show()\n",
    "    plt.close()"
   ]
  },
  {
   "cell_type": "code",
   "execution_count": 156,
   "metadata": {
    "ExecuteTime": {
     "end_time": "2021-01-13T13:22:26.132604Z",
     "start_time": "2021-01-13T13:22:25.576969Z"
    }
   },
   "outputs": [
    {
     "data": {
      "image/png": "[encoded data removed]",
      "text/plain": [
       "<Figure size 360x432 with 1 Axes>"
      ]
     },
     "metadata": {
      "needs_background": "light"
     },
     "output_type": "display_data"
    }
   ],
   "source": [
    "fig, ax = plt.subplots(figsize=(5,6))\n",
    "for i_lt in range(data_day.dims['launch_time']):\n",
    "    ax.plot(data_day.q_rad[i_lt],data_day.zlay,alpha=0.1)"
   ]
  },
  {
   "cell_type": "code",
   "execution_count": null,
   "metadata": {},
   "outputs": [],
   "source": []
  }
 ],
 "metadata": {
  "hide_input": false,
  "kernelspec": {
   "display_name": "Python 3",
   "language": "python",
   "name": "python3"
  },
  "toc": {
   "base_numbering": 1,
   "nav_menu": {},
   "number_sections": true,
   "sideBar": true,
   "skip_h1_title": false,
   "title_cell": "Table of Contents",
   "title_sidebar": "Contents",
   "toc_cell": false,
   "toc_position": {},
   "toc_section_display": true,
   "toc_window_display": false
  },
  "varInspector": {
   "cols": {
    "lenName": 16,
    "lenType": 16,
    "lenVar": 40
   },
   "kernels_config": {
    "python": {
     "delete_cmd_postfix": "",
     "delete_cmd_prefix": "del ",
     "library": "var_list.py",
     "varRefreshCmd": "print(var_dic_list())"
    },
    "r": {
     "delete_cmd_postfix": ") ",
     "delete_cmd_prefix": "rm(",
     "library": "var_list.r",
     "varRefreshCmd": "cat(var_dic_list()) "
    }
   },
   "types_to_exclude": [
    "module",
    "function",
    "builtin_function_or_method",
    "instance",
    "_Feature"
   ],
   "window_display": false
  }
 },
 "nbformat": 4,
 "nbformat_minor": 4
}
