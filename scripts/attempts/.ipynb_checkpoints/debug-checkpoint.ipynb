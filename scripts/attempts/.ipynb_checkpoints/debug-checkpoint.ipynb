{
 "cells": [
  {
   "cell_type": "code",
   "execution_count": 1,
   "metadata": {
    "ExecuteTime": {
     "end_time": "2021-10-19T13:13:34.945250Z",
     "start_time": "2021-10-19T13:13:33.111457Z"
    }
   },
   "outputs": [
    {
     "name": "stdout",
     "output_type": "stream",
     "text": [
      "Own modules available: ['conditionalstats', 'thermoConstants', 'radiativescaling', 'radiativefeatures', 'matrixoperators']\n"
     ]
    }
   ],
   "source": [
    "import numpy as np\n",
    "import matplotlib.pyplot as plt\n",
    "import matplotlib\n",
    "import os,sys,glob\n",
    "from math import *\n",
    "import xarray as xr\n",
    "\n",
    "# Load own modules\n",
    "projectname = 'EUREC4A_organization'\n",
    "workdir = os.getcwd()\n",
    "rootdir = os.path.dirname(workdir)\n",
    "while os.path.basename(rootdir) != projectname:\n",
    "    rootdir = os.path.dirname(rootdir)\n",
    "repodir = rootdir\n",
    "moduledir = os.path.join(repodir,'functions')\n",
    "resultdir = os.path.join(repodir,'results','analytical_models')\n",
    "figdir = os.path.join(repodir,'figures','analytical_models')\n",
    "inputdir = '/Users/bfildier/Dropbox/Data/EUREC4A/sondes_radiative_profiles/'\n",
    "scriptsubdir = 'step_function_RH'\n",
    "\n",
    "# current environment\n",
    "thismodule = sys.modules[__name__]\n",
    "\n",
    "##-- Own modules\n",
    "sys.path.insert(0,moduledir)\n",
    "print(\"Own modules available:\", [os.path.splitext(os.path.basename(x))[0]\n",
    "                                 for x in glob.glob(os.path.join(moduledir,'*.py'))])\n",
    "\n",
    "#- Parameters & constants\n",
    "from thermoConstants import *\n",
    "from matrixoperators import *\n",
    "from radiativefeatures import *\n",
    "from radiativescaling import *\n",
    "\n",
    "## Graphical parameters\n",
    "plt.style.use(os.path.join(matplotlib.get_configdir(),'stylelib/presentation.mplstyle'))"
   ]
  },
  {
   "cell_type": "code",
   "execution_count": 2,
   "metadata": {
    "ExecuteTime": {
     "end_time": "2021-10-19T13:13:34.962192Z",
     "start_time": "2021-10-19T13:13:34.959608Z"
    }
   },
   "outputs": [],
   "source": [
    "mo = MatrixOperators()"
   ]
  },
  {
   "cell_type": "code",
   "execution_count": 24,
   "metadata": {
    "ExecuteTime": {
     "end_time": "2021-10-19T13:34:03.872573Z",
     "start_time": "2021-10-19T13:34:03.864672Z"
    }
   },
   "outputs": [
    {
     "name": "stdout",
     "output_type": "stream",
     "text": [
      "10173.292558613659\n"
     ]
    },
    {
     "data": {
      "text/plain": [
       "-10173.292558613657"
      ]
     },
     "execution_count": 24,
     "metadata": {},
     "output_type": "execute_result"
    }
   ],
   "source": [
    "hPa_to_Pa = 1e2\n",
    "pres = np.linspace(0,1000,1001)\n",
    "# x = np.linspace(0,1,1001)\n",
    "x = np.ones(pres.shape)\n",
    "p0 = 2\n",
    "p1 = 1000\n",
    "\n",
    "print((p1-p0)*hPa_to_Pa/gg)\n",
    "mo.pressureIntegral(arr=x,pres=pres,p0=p0,p1=p1)\n"
   ]
  },
  {
   "cell_type": "code",
   "execution_count": 25,
   "metadata": {
    "ExecuteTime": {
     "end_time": "2021-10-19T13:34:04.020728Z",
     "start_time": "2021-10-19T13:34:04.016835Z"
    }
   },
   "outputs": [
    {
     "data": {
      "text/plain": [
       "array([0])"
      ]
     },
     "execution_count": 25,
     "metadata": {},
     "output_type": "execute_result"
    }
   ],
   "source": [
    "np.where(pres<=0)[0]"
   ]
  },
  {
   "cell_type": "code",
   "execution_count": 26,
   "metadata": {
    "ExecuteTime": {
     "end_time": "2021-10-19T13:34:04.169988Z",
     "start_time": "2021-10-19T13:34:04.165395Z"
    }
   },
   "outputs": [],
   "source": [
    "pressure_decrease = np.diff(pres)[0] < 0\n",
    "if pressure_decrease:\n",
    "    print('p decreases from k=0 to k=N: set k_lower=0')\n",
    "    k_lower,k_upper = 0,-1\n",
    "else:\n",
    "    k_lower,k_upper = -1,0"
   ]
  },
  {
   "cell_type": "code",
   "execution_count": 27,
   "metadata": {
    "ExecuteTime": {
     "end_time": "2021-10-19T13:34:04.305622Z",
     "start_time": "2021-10-19T13:34:04.302379Z"
    }
   },
   "outputs": [
    {
     "data": {
      "text/plain": [
       "(-1, 0)"
      ]
     },
     "execution_count": 27,
     "metadata": {},
     "output_type": "execute_result"
    }
   ],
   "source": [
    "k_lower,k_upper"
   ]
  },
  {
   "cell_type": "code",
   "execution_count": 28,
   "metadata": {
    "ExecuteTime": {
     "end_time": "2021-10-19T13:34:04.469534Z",
     "start_time": "2021-10-19T13:34:04.464639Z"
    }
   },
   "outputs": [
    {
     "name": "stdout",
     "output_type": "stream",
     "text": [
      "[0 1 2]\n",
      "[   0    1    2 ...  998  999 1000]\n",
      "2 1000\n"
     ]
    }
   ],
   "source": [
    "\n",
    "\n",
    "if p0 is not None:\n",
    "    i_lower = np.where(pres<=p0)[0]\n",
    "    print(i_lower)\n",
    "    if len(i_lower)>0:\n",
    "        i_lower = i_lower[k_lower]\n",
    "    else:\n",
    "        i_lower = 0\n",
    "if p1 is not None:\n",
    "    i_upper = np.where(pres<=p1)[0]\n",
    "    print(i_upper)\n",
    "    if len(i_upper)>0:\n",
    "        i_upper = i_upper[k_lower]\n",
    "    else:\n",
    "        i_upper = -1\n",
    "\n",
    "print(i_lower,i_upper)"
   ]
  },
  {
   "cell_type": "code",
   "execution_count": 39,
   "metadata": {
    "ExecuteTime": {
     "end_time": "2021-10-19T13:37:03.791236Z",
     "start_time": "2021-10-19T13:37:03.786796Z"
    }
   },
   "outputs": [],
   "source": [
    "if pressure_decrease:\n",
    "    i_lower,i_upper = i_upper,i_lower\n",
    "\n",
    "\n",
    "# differential in pressure\n",
    "dp_mids = np.convolve(pres*hPa_to_Pa,[1,-1],mode='valid')\n",
    "dp = np.hstack([[np.nan],np.convolve(dp_mids,[0.5,0.5],mode='valid'),[np.nan]])\n"
   ]
  },
  {
   "cell_type": "code",
   "execution_count": 30,
   "metadata": {
    "ExecuteTime": {
     "end_time": "2021-10-19T13:34:04.749248Z",
     "start_time": "2021-10-19T13:34:04.746529Z"
    }
   },
   "outputs": [],
   "source": [
    "arr = x\n",
    "\n",
    "I_z = arr*dp/gg\n",
    "\n",
    "integral = np.nansum(I_z[i_lower:i_upper])"
   ]
  },
  {
   "cell_type": "code",
   "execution_count": 31,
   "metadata": {
    "ExecuteTime": {
     "end_time": "2021-10-19T13:34:04.898244Z",
     "start_time": "2021-10-19T13:34:04.893613Z"
    }
   },
   "outputs": [
    {
     "data": {
      "text/plain": [
       "-10173.292558613657"
      ]
     },
     "execution_count": 31,
     "metadata": {},
     "output_type": "execute_result"
    }
   ],
   "source": [
    "np.nansum(dp[i_lower:i_upper]/gg)"
   ]
  },
  {
   "cell_type": "code",
   "execution_count": 32,
   "metadata": {
    "ExecuteTime": {
     "end_time": "2021-10-19T13:34:05.048408Z",
     "start_time": "2021-10-19T13:34:05.038828Z"
    }
   },
   "outputs": [
    {
     "ename": "NameError",
     "evalue": "name 'p_levmax' is not defined",
     "output_type": "error",
     "traceback": [
      "\u001b[0;31m---------------------------------------------------------------------------\u001b[0m",
      "\u001b[0;31mNameError\u001b[0m                                 Traceback (most recent call last)",
      "\u001b[0;32m<ipython-input-32-b11e753a8250>\u001b[0m in \u001b[0;36m<module>\u001b[0;34m\u001b[0m\n\u001b[0;32m----> 1\u001b[0;31m \u001b[0;34m(\u001b[0m\u001b[0mp_levmax\u001b[0m\u001b[0;34m-\u001b[0m\u001b[0mp_levmin\u001b[0m\u001b[0;34m)\u001b[0m\u001b[0;34m*\u001b[0m\u001b[0mhPa_to_Pa\u001b[0m\u001b[0;34m\u001b[0m\u001b[0;34m\u001b[0m\u001b[0m\n\u001b[0m",
      "\u001b[0;31mNameError\u001b[0m: name 'p_levmax' is not defined"
     ]
    }
   ],
   "source": [
    "(p_levmax-p_levmin)*hPa_to_Pa"
   ]
  },
  {
   "cell_type": "code",
   "execution_count": null,
   "metadata": {},
   "outputs": [],
   "source": []
  },
  {
   "cell_type": "code",
   "execution_count": null,
   "metadata": {},
   "outputs": [],
   "source": []
  }
 ],
 "metadata": {
  "hide_input": false,
  "kernelspec": {
   "display_name": "Python 3",
   "language": "python",
   "name": "python3"
  },
  "language_info": {
   "codemirror_mode": {
    "name": "ipython",
    "version": 3
   },
   "file_extension": ".py",
   "mimetype": "text/x-python",
   "name": "python",
   "nbconvert_exporter": "python",
   "pygments_lexer": "ipython3",
   "version": "3.7.6"
  },
  "toc": {
   "base_numbering": 1,
   "nav_menu": {},
   "number_sections": true,
   "sideBar": true,
   "skip_h1_title": false,
   "title_cell": "Table of Contents",
   "title_sidebar": "Contents",
   "toc_cell": false,
   "toc_position": {},
   "toc_section_display": true,
   "toc_window_display": false
  },
  "varInspector": {
   "cols": {
    "lenName": 16,
    "lenType": 16,
    "lenVar": 40
   },
   "kernels_config": {
    "python": {
     "delete_cmd_postfix": "",
     "delete_cmd_prefix": "del ",
     "library": "var_list.py",
     "varRefreshCmd": "print(var_dic_list())"
    },
    "r": {
     "delete_cmd_postfix": ") ",
     "delete_cmd_prefix": "rm(",
     "library": "var_list.r",
     "varRefreshCmd": "cat(var_dic_list()) "
    }
   },
   "types_to_exclude": [
    "module",
    "function",
    "builtin_function_or_method",
    "instance",
    "_Feature"
   ],
   "window_display": false
  }
 },
 "nbformat": 4,
 "nbformat_minor": 4
}
