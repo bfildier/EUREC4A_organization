{
 "cells": [
  {
   "cell_type": "code",
   "execution_count": 2,
   "metadata": {
    "ExecuteTime": {
     "end_time": "2022-01-07T11:01:57.743951Z",
     "start_time": "2022-01-07T11:01:57.617656Z"
    }
   },
   "outputs": [],
   "source": [
    "import xarray as xr\n",
    "import numpy as np\n",
    "import pandas as pd\n",
    "import datetime\n",
    "\n",
    "import seaborn as sns\n",
    "import pathlib\n",
    "\n",
    "import matplotlib as mpl\n",
    "import matplotlib.pyplot as plt\n",
    "\n",
    "import cartopy.crs as ccrs"
   ]
  },
  {
   "cell_type": "code",
   "execution_count": null,
   "metadata": {},
   "outputs": [],
   "source": [
    "# In[2]:\n",
    "\n",
    "\n",
    "dataDir = pathlib.Path(\"/Users/robert/Documents/Data/CKDMIP/idealized\")\n",
    "h2o_base   = 'ckdmip_idealized_lw_spectra_h2o_constant'\n",
    "\n",
    "h2o_nocont = h2o_base.replace(\"h2o_constant\", \"h2o-no-continuum_constant\") "
   ]
  },
  {
   "cell_type": "code",
   "execution_count": null,
   "metadata": {},
   "outputs": [],
   "source": [
    "# In[3]:\n",
    "\n",
    "\n",
    "# These are the base-10 logarithms of the a-l water vapor files \n",
    "np.linspace(-7, -1.5, num=12) \n",
    "# Here's a way to iterate through the letters a-l\n",
    "[chr(i) for i in range(ord('a'), ord('l')+1)]\n",
    "\n",
    "\n",
    "# In[4]:\n",
    "\n",
    "\n",
    "wv_key = 'k'# 10^-7 kg/kg; log 10 values are np.linspace(-7, -1.5, num=12)\n",
    "wv_tau  = xr.open_dataset(dataDir.joinpath('{}-{}.h5'.format(h2o_base,   wv_key)), \n",
    "                          engine='netcdf4', chunks='auto').optical_depth\n",
    "wv_cont = wv_tau -           xr.open_dataset(dataDir.joinpath('{}-{}.h5'.format(h2o_nocont, wv_key)), \n",
    "                          engine='netcdf4', chunks='auto').optical_depth \n",
    "             \n",
    "\n",
    "\n",
    "# In[16]:\n",
    "\n",
    "\n",
    "level  = 52 # Second from bottom (53 levels)\n",
    "column =  3 # Six temperatures spanning +/- 10, 30, 50 degrees around an simple temperature profile \n",
    "wv_tau_window = wv_tau.isel( level=level, column=column).sel(wavenumber=slice(400,1200))\n",
    "wv_cnt_window = wv_cont.isel(level=level, column=column).sel(wavenumber=slice(400,1200))\n",
    "\n",
    "# Resolution is every .0002 cm-1, so 5000 points per cm-1. \n",
    "wv_tau_window.plot.line()\n",
    "wv_cnt_window.plot.line()\n",
    "plt.yscale('log')\n",
    "\n",
    "\n",
    "# In[6]:\n",
    "\n",
    "\n",
    "wv_cnt_window.plot.line()\n",
    "plt.yscale('log')\n",
    "\n",
    "\n",
    "# In[21]:\n",
    "\n",
    "\n",
    "wv_tau_window.plot.line()\n",
    "plt.yscale('log')\n",
    "\n",
    "\n",
    "# In[8]:\n",
    "\n",
    "\n",
    "plt.plot(wv_tau_window.rolling(wavenumber=50000, center=True).mean()) # Every 10 cm-1\n",
    "plt.yscale('log')\n",
    "\n",
    "\n",
    "# In[ ]:"
   ]
  }
 ],
 "metadata": {
  "hide_input": false,
  "kernelspec": {
   "display_name": "Python 3",
   "language": "python",
   "name": "python3"
  },
  "language_info": {
   "codemirror_mode": {
    "name": "ipython",
    "version": 3
   },
   "file_extension": ".py",
   "mimetype": "text/x-python",
   "name": "python",
   "nbconvert_exporter": "python",
   "pygments_lexer": "ipython3",
   "version": "3.7.6"
  },
  "toc": {
   "base_numbering": 1,
   "nav_menu": {},
   "number_sections": true,
   "sideBar": true,
   "skip_h1_title": false,
   "title_cell": "Table of Contents",
   "title_sidebar": "Contents",
   "toc_cell": false,
   "toc_position": {},
   "toc_section_display": true,
   "toc_window_display": false
  },
  "varInspector": {
   "cols": {
    "lenName": 16,
    "lenType": 16,
    "lenVar": 40
   },
   "kernels_config": {
    "python": {
     "delete_cmd_postfix": "",
     "delete_cmd_prefix": "del ",
     "library": "var_list.py",
     "varRefreshCmd": "print(var_dic_list())"
    },
    "r": {
     "delete_cmd_postfix": ") ",
     "delete_cmd_prefix": "rm(",
     "library": "var_list.r",
     "varRefreshCmd": "cat(var_dic_list()) "
    }
   },
   "types_to_exclude": [
    "module",
    "function",
    "builtin_function_or_method",
    "instance",
    "_Feature"
   ],
   "window_display": false
  }
 },
 "nbformat": 4,
 "nbformat_minor": 4
}
