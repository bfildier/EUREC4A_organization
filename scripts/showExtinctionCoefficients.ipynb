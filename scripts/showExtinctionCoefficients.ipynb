{
 "cells": [
  {
   "cell_type": "code",
   "execution_count": 1,
   "metadata": {
    "ExecuteTime": {
     "end_time": "2022-05-26T19:14:29.445551Z",
     "start_time": "2022-05-26T19:14:17.631326Z"
    }
   },
   "outputs": [],
   "source": [
    "import xarray as xr\n",
    "import numpy as np\n",
    "import pandas as pd\n",
    "import datetime\n",
    "\n",
    "import seaborn as sns\n",
    "import colorcet as cc\n",
    "import pathlib\n",
    "\n",
    "import matplotlib as mpl\n",
    "import matplotlib.pyplot as plt\n",
    "\n",
    "import os\n",
    "\n",
    "import netCDF4"
   ]
  },
  {
   "cell_type": "code",
   "execution_count": 2,
   "metadata": {
    "ExecuteTime": {
     "end_time": "2022-05-26T19:14:49.165215Z",
     "start_time": "2022-05-26T19:14:49.158496Z"
    }
   },
   "outputs": [],
   "source": [
    "projectname = 'EUREC4A_organization'\n",
    "workdir = os.getcwd()\n",
    "rootdir = os.path.dirname(workdir)\n",
    "while os.path.basename(rootdir) != projectname:\n",
    "    rootdir = os.path.dirname(rootdir)\n",
    "repodir = rootdir\n",
    "figdir = os.path.join(repodir,'figures','idealized_calculations')\n",
    "scriptsubdir = 'gas_optics'\n",
    "\n",
    "os.makedirs(os.path.join(figdir,scriptsubdir),exist_ok=True)"
   ]
  },
  {
   "cell_type": "code",
   "execution_count": 3,
   "metadata": {
    "ExecuteTime": {
     "end_time": "2022-05-26T19:14:51.074561Z",
     "start_time": "2022-05-26T19:14:51.071497Z"
    }
   },
   "outputs": [],
   "source": [
    "dataDir = pathlib.Path(\"/Users/bfildier/Data/radiation/gas_optics_ckdmip/\")\n",
    "h2o_base   = 'ckdmip_idealized_lw_spectra_h2o_constant'\n",
    "\n",
    "h2o_nocont = h2o_base.replace(\"h2o_constant\", \"h2o-no-continuum_constant\") \n"
   ]
  },
  {
   "cell_type": "code",
   "execution_count": 4,
   "metadata": {
    "ExecuteTime": {
     "end_time": "2022-05-26T19:14:52.008424Z",
     "start_time": "2022-05-26T19:14:51.999928Z"
    }
   },
   "outputs": [
    {
     "data": {
      "text/plain": [
       "['a', 'b', 'c', 'd', 'e', 'f', 'g', 'h', 'i', 'j', 'k', 'l']"
      ]
     },
     "execution_count": 4,
     "metadata": {},
     "output_type": "execute_result"
    }
   ],
   "source": [
    "# These are the base-10 logarithms of the a-l water vapor files \n",
    "np.linspace(-7, -1.5, num=12) \n",
    "# Here's a way to iterate through the letters a-l\n",
    "[chr(i) for i in range(ord('a'), ord('l')+1)]"
   ]
  },
  {
   "cell_type": "code",
   "execution_count": 5,
   "metadata": {
    "ExecuteTime": {
     "end_time": "2022-05-26T19:14:53.801671Z",
     "start_time": "2022-05-26T19:14:53.388091Z"
    }
   },
   "outputs": [],
   "source": [
    "wv_key = 'k'# 10^-7 kg/kg; log 10 values are np.linspace(-7, -1.5, num=12)\n",
    "\n",
    "hdf5file = os.path.join(dataDir,'{}-{}.h5'.format(h2o_base,   wv_key))\n",
    "h2o_data_base = xr.open_dataset(hdf5file, engine='h5netcdf')\n",
    "\n",
    "hdf5file_nocont = os.path.join(dataDir,'{}-{}.h5'.format(h2o_nocont,   wv_key))\n",
    "h2o_data_nocont = xr.open_dataset(hdf5file_nocont, engine='h5netcdf')"
   ]
  },
  {
   "cell_type": "code",
   "execution_count": 6,
   "metadata": {
    "ExecuteTime": {
     "end_time": "2022-05-26T19:14:54.122236Z",
     "start_time": "2022-05-26T19:14:54.078813Z"
    },
    "run_control": {
     "marked": false
    }
   },
   "outputs": [
    {
     "data": {
      "text/html": [
       "<div><svg style=\"position: absolute; width: 0; height: 0; overflow: hidden\">\n",
       "<defs>\n",
       "<symbol id=\"icon-database\" viewBox=\"0 0 32 32\">\n",
       "<path d=\"M16 0c-8.837 0-16 2.239-16 5v4c0 2.761 7.163 5 16 5s16-2.239 16-5v-4c0-2.761-7.163-5-16-5z\"></path>\n",
       "<path d=\"M16 17c-8.837 0-16-2.239-16-5v6c0 2.761 7.163 5 16 5s16-2.239 16-5v-6c0 2.761-7.163 5-16 5z\"></path>\n",
       "<path d=\"M16 26c-8.837 0-16-2.239-16-5v6c0 2.761 7.163 5 16 5s16-2.239 16-5v-6c0 2.761-7.163 5-16 5z\"></path>\n",
       "</symbol>\n",
       "<symbol id=\"icon-file-text2\" viewBox=\"0 0 32 32\">\n",
       "<path d=\"M28.681 7.159c-0.694-0.947-1.662-2.053-2.724-3.116s-2.169-2.030-3.116-2.724c-1.612-1.182-2.393-1.319-2.841-1.319h-15.5c-1.378 0-2.5 1.121-2.5 2.5v27c0 1.378 1.122 2.5 2.5 2.5h23c1.378 0 2.5-1.122 2.5-2.5v-19.5c0-0.448-0.137-1.23-1.319-2.841zM24.543 5.457c0.959 0.959 1.712 1.825 2.268 2.543h-4.811v-4.811c0.718 0.556 1.584 1.309 2.543 2.268zM28 29.5c0 0.271-0.229 0.5-0.5 0.5h-23c-0.271 0-0.5-0.229-0.5-0.5v-27c0-0.271 0.229-0.5 0.5-0.5 0 0 15.499-0 15.5 0v7c0 0.552 0.448 1 1 1h7v19.5z\"></path>\n",
       "<path d=\"M23 26h-14c-0.552 0-1-0.448-1-1s0.448-1 1-1h14c0.552 0 1 0.448 1 1s-0.448 1-1 1z\"></path>\n",
       "<path d=\"M23 22h-14c-0.552 0-1-0.448-1-1s0.448-1 1-1h14c0.552 0 1 0.448 1 1s-0.448 1-1 1z\"></path>\n",
       "<path d=\"M23 18h-14c-0.552 0-1-0.448-1-1s0.448-1 1-1h14c0.552 0 1 0.448 1 1s-0.448 1-1 1z\"></path>\n",
       "</symbol>\n",
       "</defs>\n",
       "</svg>\n",
       "<style>/* CSS stylesheet for displaying xarray objects in jupyterlab.\n",
       " *\n",
       " */\n",
       "\n",
       ":root {\n",
       "  --xr-font-color0: var(--jp-content-font-color0, rgba(0, 0, 0, 1));\n",
       "  --xr-font-color2: var(--jp-content-font-color2, rgba(0, 0, 0, 0.54));\n",
       "  --xr-font-color3: var(--jp-content-font-color3, rgba(0, 0, 0, 0.38));\n",
       "  --xr-border-color: var(--jp-border-color2, #e0e0e0);\n",
       "  --xr-disabled-color: var(--jp-layout-color3, #bdbdbd);\n",
       "  --xr-background-color: var(--jp-layout-color0, white);\n",
       "  --xr-background-color-row-even: var(--jp-layout-color1, white);\n",
       "  --xr-background-color-row-odd: var(--jp-layout-color2, #eeeeee);\n",
       "}\n",
       "\n",
       "html[theme=dark],\n",
       "body.vscode-dark {\n",
       "  --xr-font-color0: rgba(255, 255, 255, 1);\n",
       "  --xr-font-color2: rgba(255, 255, 255, 0.54);\n",
       "  --xr-font-color3: rgba(255, 255, 255, 0.38);\n",
       "  --xr-border-color: #1F1F1F;\n",
       "  --xr-disabled-color: #515151;\n",
       "  --xr-background-color: #111111;\n",
       "  --xr-background-color-row-even: #111111;\n",
       "  --xr-background-color-row-odd: #313131;\n",
       "}\n",
       "\n",
       ".xr-wrap {\n",
       "  display: block;\n",
       "  min-width: 300px;\n",
       "  max-width: 700px;\n",
       "}\n",
       "\n",
       ".xr-text-repr-fallback {\n",
       "  /* fallback to plain text repr when CSS is not injected (untrusted notebook) */\n",
       "  display: none;\n",
       "}\n",
       "\n",
       ".xr-header {\n",
       "  padding-top: 6px;\n",
       "  padding-bottom: 6px;\n",
       "  margin-bottom: 4px;\n",
       "  border-bottom: solid 1px var(--xr-border-color);\n",
       "}\n",
       "\n",
       ".xr-header > div,\n",
       ".xr-header > ul {\n",
       "  display: inline;\n",
       "  margin-top: 0;\n",
       "  margin-bottom: 0;\n",
       "}\n",
       "\n",
       ".xr-obj-type,\n",
       ".xr-array-name {\n",
       "  margin-left: 2px;\n",
       "  margin-right: 10px;\n",
       "}\n",
       "\n",
       ".xr-obj-type {\n",
       "  color: var(--xr-font-color2);\n",
       "}\n",
       "\n",
       ".xr-sections {\n",
       "  padding-left: 0 !important;\n",
       "  display: grid;\n",
       "  grid-template-columns: 150px auto auto 1fr 20px 20px;\n",
       "}\n",
       "\n",
       ".xr-section-item {\n",
       "  display: contents;\n",
       "}\n",
       "\n",
       ".xr-section-item input {\n",
       "  display: none;\n",
       "}\n",
       "\n",
       ".xr-section-item input + label {\n",
       "  color: var(--xr-disabled-color);\n",
       "}\n",
       "\n",
       ".xr-section-item input:enabled + label {\n",
       "  cursor: pointer;\n",
       "  color: var(--xr-font-color2);\n",
       "}\n",
       "\n",
       ".xr-section-item input:enabled + label:hover {\n",
       "  color: var(--xr-font-color0);\n",
       "}\n",
       "\n",
       ".xr-section-summary {\n",
       "  grid-column: 1;\n",
       "  color: var(--xr-font-color2);\n",
       "  font-weight: 500;\n",
       "}\n",
       "\n",
       ".xr-section-summary > span {\n",
       "  display: inline-block;\n",
       "  padding-left: 0.5em;\n",
       "}\n",
       "\n",
       ".xr-section-summary-in:disabled + label {\n",
       "  color: var(--xr-font-color2);\n",
       "}\n",
       "\n",
       ".xr-section-summary-in + label:before {\n",
       "  display: inline-block;\n",
       "  content: '►';\n",
       "  font-size: 11px;\n",
       "  width: 15px;\n",
       "  text-align: center;\n",
       "}\n",
       "\n",
       ".xr-section-summary-in:disabled + label:before {\n",
       "  color: var(--xr-disabled-color);\n",
       "}\n",
       "\n",
       ".xr-section-summary-in:checked + label:before {\n",
       "  content: '▼';\n",
       "}\n",
       "\n",
       ".xr-section-summary-in:checked + label > span {\n",
       "  display: none;\n",
       "}\n",
       "\n",
       ".xr-section-summary,\n",
       ".xr-section-inline-details {\n",
       "  padding-top: 4px;\n",
       "  padding-bottom: 4px;\n",
       "}\n",
       "\n",
       ".xr-section-inline-details {\n",
       "  grid-column: 2 / -1;\n",
       "}\n",
       "\n",
       ".xr-section-details {\n",
       "  display: none;\n",
       "  grid-column: 1 / -1;\n",
       "  margin-bottom: 5px;\n",
       "}\n",
       "\n",
       ".xr-section-summary-in:checked ~ .xr-section-details {\n",
       "  display: contents;\n",
       "}\n",
       "\n",
       ".xr-array-wrap {\n",
       "  grid-column: 1 / -1;\n",
       "  display: grid;\n",
       "  grid-template-columns: 20px auto;\n",
       "}\n",
       "\n",
       ".xr-array-wrap > label {\n",
       "  grid-column: 1;\n",
       "  vertical-align: top;\n",
       "}\n",
       "\n",
       ".xr-preview {\n",
       "  color: var(--xr-font-color3);\n",
       "}\n",
       "\n",
       ".xr-array-preview,\n",
       ".xr-array-data {\n",
       "  padding: 0 5px !important;\n",
       "  grid-column: 2;\n",
       "}\n",
       "\n",
       ".xr-array-data,\n",
       ".xr-array-in:checked ~ .xr-array-preview {\n",
       "  display: none;\n",
       "}\n",
       "\n",
       ".xr-array-in:checked ~ .xr-array-data,\n",
       ".xr-array-preview {\n",
       "  display: inline-block;\n",
       "}\n",
       "\n",
       ".xr-dim-list {\n",
       "  display: inline-block !important;\n",
       "  list-style: none;\n",
       "  padding: 0 !important;\n",
       "  margin: 0;\n",
       "}\n",
       "\n",
       ".xr-dim-list li {\n",
       "  display: inline-block;\n",
       "  padding: 0;\n",
       "  margin: 0;\n",
       "}\n",
       "\n",
       ".xr-dim-list:before {\n",
       "  content: '(';\n",
       "}\n",
       "\n",
       ".xr-dim-list:after {\n",
       "  content: ')';\n",
       "}\n",
       "\n",
       ".xr-dim-list li:not(:last-child):after {\n",
       "  content: ',';\n",
       "  padding-right: 5px;\n",
       "}\n",
       "\n",
       ".xr-has-index {\n",
       "  font-weight: bold;\n",
       "}\n",
       "\n",
       ".xr-var-list,\n",
       ".xr-var-item {\n",
       "  display: contents;\n",
       "}\n",
       "\n",
       ".xr-var-item > div,\n",
       ".xr-var-item label,\n",
       ".xr-var-item > .xr-var-name span {\n",
       "  background-color: var(--xr-background-color-row-even);\n",
       "  margin-bottom: 0;\n",
       "}\n",
       "\n",
       ".xr-var-item > .xr-var-name:hover span {\n",
       "  padding-right: 5px;\n",
       "}\n",
       "\n",
       ".xr-var-list > li:nth-child(odd) > div,\n",
       ".xr-var-list > li:nth-child(odd) > label,\n",
       ".xr-var-list > li:nth-child(odd) > .xr-var-name span {\n",
       "  background-color: var(--xr-background-color-row-odd);\n",
       "}\n",
       "\n",
       ".xr-var-name {\n",
       "  grid-column: 1;\n",
       "}\n",
       "\n",
       ".xr-var-dims {\n",
       "  grid-column: 2;\n",
       "}\n",
       "\n",
       ".xr-var-dtype {\n",
       "  grid-column: 3;\n",
       "  text-align: right;\n",
       "  color: var(--xr-font-color2);\n",
       "}\n",
       "\n",
       ".xr-var-preview {\n",
       "  grid-column: 4;\n",
       "}\n",
       "\n",
       ".xr-var-name,\n",
       ".xr-var-dims,\n",
       ".xr-var-dtype,\n",
       ".xr-preview,\n",
       ".xr-attrs dt {\n",
       "  white-space: nowrap;\n",
       "  overflow: hidden;\n",
       "  text-overflow: ellipsis;\n",
       "  padding-right: 10px;\n",
       "}\n",
       "\n",
       ".xr-var-name:hover,\n",
       ".xr-var-dims:hover,\n",
       ".xr-var-dtype:hover,\n",
       ".xr-attrs dt:hover {\n",
       "  overflow: visible;\n",
       "  width: auto;\n",
       "  z-index: 1;\n",
       "}\n",
       "\n",
       ".xr-var-attrs,\n",
       ".xr-var-data {\n",
       "  display: none;\n",
       "  background-color: var(--xr-background-color) !important;\n",
       "  padding-bottom: 5px !important;\n",
       "}\n",
       "\n",
       ".xr-var-attrs-in:checked ~ .xr-var-attrs,\n",
       ".xr-var-data-in:checked ~ .xr-var-data {\n",
       "  display: block;\n",
       "}\n",
       "\n",
       ".xr-var-data > table {\n",
       "  float: right;\n",
       "}\n",
       "\n",
       ".xr-var-name span,\n",
       ".xr-var-data,\n",
       ".xr-attrs {\n",
       "  padding-left: 25px !important;\n",
       "}\n",
       "\n",
       ".xr-attrs,\n",
       ".xr-var-attrs,\n",
       ".xr-var-data {\n",
       "  grid-column: 1 / -1;\n",
       "}\n",
       "\n",
       "dl.xr-attrs {\n",
       "  padding: 0;\n",
       "  margin: 0;\n",
       "  display: grid;\n",
       "  grid-template-columns: 125px auto;\n",
       "}\n",
       "\n",
       ".xr-attrs dt,\n",
       ".xr-attrs dd {\n",
       "  padding: 0;\n",
       "  margin: 0;\n",
       "  float: left;\n",
       "  padding-right: 10px;\n",
       "  width: auto;\n",
       "}\n",
       "\n",
       ".xr-attrs dt {\n",
       "  font-weight: normal;\n",
       "  grid-column: 1;\n",
       "}\n",
       "\n",
       ".xr-attrs dt:hover span {\n",
       "  display: inline-block;\n",
       "  background: var(--xr-background-color);\n",
       "  padding-right: 10px;\n",
       "}\n",
       "\n",
       ".xr-attrs dd {\n",
       "  grid-column: 2;\n",
       "  white-space: pre-wrap;\n",
       "  word-break: break-all;\n",
       "}\n",
       "\n",
       ".xr-icon-database,\n",
       ".xr-icon-file-text2 {\n",
       "  display: inline-block;\n",
       "  vertical-align: middle;\n",
       "  width: 1em;\n",
       "  height: 1.5em !important;\n",
       "  stroke-width: 0;\n",
       "  stroke: currentColor;\n",
       "  fill: currentColor;\n",
       "}\n",
       "</style><pre class='xr-text-repr-fallback'>&lt;xarray.Dataset&gt;\n",
       "Dimensions:                          (level: 53, half_level: 54, column: 6, wavenumber: 7211999)\n",
       "Coordinates:\n",
       "  * level                            (level) int16 1 2 3 4 5 ... 49 50 51 52 53\n",
       "  * half_level                       (half_level) int16 1 2 3 4 ... 51 52 53 54\n",
       "  * wavenumber                       (wavenumber) float64 0.0002 ... 3.26e+03\n",
       "Dimensions without coordinates: column\n",
       "Data variables:\n",
       "    pressure_hl                      (column, half_level) float32 0.6145 ... ...\n",
       "    temperature_hl                   (column, half_level) float32 136.6 ... 3...\n",
       "    mole_fraction_hl                 (column, half_level) float32 0.01608 ......\n",
       "    pressure_fl                      (column, level) float32 0.6941 ... 1.1e+05\n",
       "    temperature_fl                   (column, level) float32 138.5 ... 332.9\n",
       "    mole_fraction_fl                 (column, level) float32 0.01608 ... 0.01608\n",
       "    reference_surface_mole_fraction  float32 0.01608\n",
       "    optical_depth                    (column, level, wavenumber) float32 ...\n",
       "Attributes: (12/14)\n",
       "    title:             Spectral optical depth profiles of H2O\n",
       "    institution:       European Centre for Medium-Range Weather Forecasts (EC...\n",
       "    source:            Line-By-Line Radiative Transfer Model (LBLRTM)\n",
       "    creator_name:      Robin Hogan\n",
       "    creator_email:     r.j.hogan@ecmwf.int\n",
       "    contributor_name:  Marco Matricardi\n",
       "    ...                ...\n",
       "    comment:           LBLRTM computes layer optical depth from half-level pr...\n",
       "    conventions:       CF-1.7\n",
       "    constituent_id:    h2o\n",
       "    profile_type:      constant-k\n",
       "    experiment:        Idealized\n",
       "    experiment_id:     idealized</pre><div class='xr-wrap' hidden><div class='xr-header'><div class='xr-obj-type'>xarray.Dataset</div></div><ul class='xr-sections'><li class='xr-section-item'><input id='section-4092a085-bd27-4049-ba87-bb4d9efb872a' class='xr-section-summary-in' type='checkbox' disabled ><label for='section-4092a085-bd27-4049-ba87-bb4d9efb872a' class='xr-section-summary'  title='Expand/collapse section'>Dimensions:</label><div class='xr-section-inline-details'><ul class='xr-dim-list'><li><span class='xr-has-index'>level</span>: 53</li><li><span class='xr-has-index'>half_level</span>: 54</li><li><span>column</span>: 6</li><li><span class='xr-has-index'>wavenumber</span>: 7211999</li></ul></div><div class='xr-section-details'></div></li><li class='xr-section-item'><input id='section-0bf27d7f-9d50-46cb-a05c-d90424025d29' class='xr-section-summary-in' type='checkbox'  checked><label for='section-0bf27d7f-9d50-46cb-a05c-d90424025d29' class='xr-section-summary' >Coordinates: <span>(3)</span></label><div class='xr-section-inline-details'></div><div class='xr-section-details'><ul class='xr-var-list'><li class='xr-var-item"
      ],
      "text/plain": [
       "<xarray.Dataset>\n",
       "Dimensions:                          (level: 53, half_level: 54, column: 6, wavenumber: 7211999)\n",
       "Coordinates:\n",
       "  * level                            (level) int16 1 2 3 4 5 ... 49 50 51 52 53\n",
       "  * half_level                       (half_level) int16 1 2 3 4 ... 51 52 53 54\n",
       "  * wavenumber                       (wavenumber) float64 0.0002 ... 3.26e+03\n",
       "Dimensions without coordinates: column\n",
       "Data variables:\n",
       "    pressure_hl                      (column, half_level) float32 ...\n",
       "    temperature_hl                   (column, half_level) float32 ...\n",
       "    mole_fraction_hl                 (column, half_level) float32 ...\n",
       "    pressure_fl                      (column, level) float32 ...\n",
       "    temperature_fl                   (column, level) float32 ...\n",
       "    mole_fraction_fl                 (column, level) float32 ...\n",
       "    reference_surface_mole_fraction  float32 ...\n",
       "    optical_depth                    (column, level, wavenumber) float32 ...\n",
       "Attributes: (12/14)\n",
       "    title:             Spectral optical depth profiles of H2O\n",
       "    institution:       European Centre for Medium-Range Weather Forecasts (EC...\n",
       "    source:            Line-By-Line Radiative Transfer Model (LBLRTM)\n",
       "    creator_name:      Robin Hogan\n",
       "    creator_email:     r.j.hogan@ecmwf.int\n",
       "    contributor_name:  Marco Matricardi\n",
       "    ...                ...\n",
       "    comment:           LBLRTM computes layer optical depth from half-level pr...\n",
       "    conventions:       CF-1.7\n",
       "    constituent_id:    h2o\n",
       "    profile_type:      constant-k\n",
       "    experiment:        Idealized\n",
       "    experiment_id:     idealized"
      ]
     },
     "execution_count": 6,
     "metadata": {},
     "output_type": "execute_result"
    },
    {
     "data": {
      "text/html": [
       "<b>limit_output extension: Maximum message size of 10000 exceeded with 27073 characters</b>"
      ]
     },
     "metadata": {},
     "output_type": "display_data"
    }
   ],
   "source": [
    "data = h2o_data_base\n",
    "data"
   ]
  },
  {
   "cell_type": "code",
   "execution_count": 7,
   "metadata": {
    "ExecuteTime": {
     "end_time": "2022-05-26T19:15:07.839750Z",
     "start_time": "2022-05-26T19:15:07.706453Z"
    }
   },
   "outputs": [
    {
     "data": {
      "text/plain": [
       "<matplotlib.image.AxesImage at 0x7fe10af09650>"
      ]
     },
     "execution_count": 7,
     "metadata": {},
     "output_type": "execute_result"
    },
    {
     "data": {
      "image/png": "[encoded data removed]",
      "text/plain": [
       "<Figure size 432x288 with 1 Axes>"
      ]
     },
     "metadata": {
      "needs_background": "light"
     },
     "output_type": "display_data"
    }
   ],
   "source": [
    "plt.imshow(data.pressure_hl)"
   ]
  },
  {
   "cell_type": "code",
   "execution_count": 8,
   "metadata": {
    "ExecuteTime": {
     "end_time": "2022-05-26T19:15:23.770453Z",
     "start_time": "2022-05-26T19:15:23.660144Z"
    }
   },
   "outputs": [
    {
     "data": {
      "text/plain": [
       "<matplotlib.image.AxesImage at 0x7fe10af592d0>"
      ]
     },
     "execution_count": 8,
     "metadata": {},
     "output_type": "execute_result"
    },
    {
     "data": {
      "image/png": "[encoded data removed]",
      "text/plain": [
       "<Figure size 432x288 with 1 Axes>"
      ]
     },
     "metadata": {
      "needs_background": "light"
     },
     "output_type": "display_data"
    }
   ],
   "source": [
    "plt.imshow(data.temperature_hl)"
   ]
  },
  {
   "cell_type": "code",
   "execution_count": 9,
   "metadata": {
    "ExecuteTime": {
     "end_time": "2022-05-26T19:16:40.751582Z",
     "start_time": "2022-05-26T19:16:40.730918Z"
    }
   },
   "outputs": [],
   "source": [
    "data = h2o_data_base\n",
    "\n",
    "pres_ref = 80000 # Pa\n",
    "temp_ref = 290 # K\n",
    "\n",
    "i_pres = np.where(data.pressure_hl[0] <= pres_ref)[0][-1]\n",
    "i_temp = np.where(data.temperature_hl[:,i_pres] <= temp_ref)[0][-1]\n",
    "\n",
    "wn = data.wavenumber\n",
    "wv_tau_window = data.optical_depth[i_temp,i_pres].sel(wavenumber=slice(150,1450))\n"
   ]
  },
  {
   "cell_type": "code",
   "execution_count": 116,
   "metadata": {
    "ExecuteTime": {
     "end_time": "2022-05-11T15:04:09.139837Z",
     "start_time": "2022-05-11T15:04:07.579689Z"
    }
   },
   "outputs": [
    {
     "data": {
      "image/png": "[encoded data removed]",
      "text/plain": [
       "<Figure size 432x288 with 1 Axes>"
      ]
     },
     "metadata": {
      "needs_background": "light"
     },
     "output_type": "display_data"
    }
   ],
   "source": [
    "\n",
    "fig,ax = plt.subplots()\n",
    "ax.plot(wn,wv_tau_window)\n",
    "\n",
    "\n",
    "wv_tau_window.plot.line(linewidth=0.5)\n",
    "plt.yscale('log')"
   ]
  },
  {
   "cell_type": "code",
   "execution_count": 117,
   "metadata": {
    "ExecuteTime": {
     "end_time": "2022-05-11T15:04:26.479303Z",
     "start_time": "2022-05-11T15:04:24.969433Z"
    }
   },
   "outputs": [
    {
     "data": {
      "image/png": "[encoded data removed]",
      "text/plain": [
       "<Figure size 432x288 with 1 Axes>"
      ]
     },
     "metadata": {
      "needs_background": "light"
     },
     "output_type": "display_data"
    }
   ],
   "source": [
    "plt.plot(wv_tau_window.rolling(wavenumber=10000, center=True).mean(),linewidth=0.5) # Every 2 cm-1\n",
    "plt.yscale('log')"
   ]
  },
  {
   "cell_type": "code",
   "execution_count": 118,
   "metadata": {
    "ExecuteTime": {
     "end_time": "2022-05-11T15:04:28.115904Z",
     "start_time": "2022-05-11T15:04:28.070880Z"
    }
   },
   "outputs": [],
   "source": [
    "data = h2o_data_nocont\n",
    "\n",
    "i_pres = np.where(data.pressure_hl[0] <= pres_ref)[0][-1]\n",
    "i_temp = np.where(data.temperature_hl[:,i_pres] <= temp_ref)[0][-1]\n",
    "\n",
    "wn = data.wavenumber\n",
    "wv_tau_window = data.optical_depth[i_temp,i_pres].sel(wavenumber=slice(150,1450))"
   ]
  },
  {
   "cell_type": "code",
   "execution_count": 119,
   "metadata": {
    "ExecuteTime": {
     "end_time": "2022-05-11T15:04:35.658173Z",
     "start_time": "2022-05-11T15:04:28.252982Z"
    }
   },
   "outputs": [
    {
     "data": {
      "image/png": "[encoded data removed]",
      "text/plain": [
       "<Figure size 432x288 with 1 Axes>"
      ]
     },
     "metadata": {
      "needs_background": "light"
     },
     "output_type": "display_data"
    }
   ],
   "source": [
    "wv_tau_window.plot.line(linewidth=0.5)\n",
    "plt.yscale('log')"
   ]
  },
  {
   "cell_type": "code",
   "execution_count": 120,
   "metadata": {
    "ExecuteTime": {
     "end_time": "2022-05-11T15:04:36.966058Z",
     "start_time": "2022-05-11T15:04:35.678362Z"
    }
   },
   "outputs": [
    {
     "data": {
      "image/png": "[encoded data removed]",
      "text/plain": [
       "<Figure size 432x288 with 1 Axes>"
      ]
     },
     "metadata": {
      "needs_background": "light"
     },
     "output_type": "display_data"
    }
   ],
   "source": [
    "plt.plot(wv_tau_window.rolling(wavenumber=10000, center=True).mean(),linewidth=0.5) # Every 2 cm-1\n",
    "plt.yscale('log')"
   ]
  },
  {
   "cell_type": "code",
   "execution_count": null,
   "metadata": {},
   "outputs": [],
   "source": [
    "# NEED to interpolate in T, p to get the right (same) values with and without continuum?\n",
    "# (to compare why the magnitudes don't really match, away from the window)\n"
   ]
  },
  {
   "cell_type": "markdown",
   "metadata": {},
   "source": [
    "# extinction coefficients"
   ]
  },
  {
   "cell_type": "markdown",
   "metadata": {},
   "source": [
    "Use the command (for example)\n",
    "\n",
    "    ./ckdmip-1.0/bin/ckdmip_convert ckdmip_idealized_lw_spectra_h2o-no-continuum_constant-k.h5 ckdmip_idealized_lw_kappa_h2o-no-continuum_constant-k.h5"
   ]
  },
  {
   "cell_type": "code",
   "execution_count": 8,
   "metadata": {
    "ExecuteTime": {
     "end_time": "2022-05-13T15:47:36.542654Z",
     "start_time": "2022-05-13T15:47:36.526262Z"
    }
   },
   "outputs": [
    {
     "data": {
      "text/html": [
       "<div><svg style=\"position: absolute; width: 0; height: 0; overflow: hidden\">\n",
       "<defs>\n",
       "<symbol id=\"icon-database\" viewBox=\"0 0 32 32\">\n",
       "<path d=\"M16 0c-8.837 0-16 2.239-16 5v4c0 2.761 7.163 5 16 5s16-2.239 16-5v-4c0-2.761-7.163-5-16-5z\"></path>\n",
       "<path d=\"M16 17c-8.837 0-16-2.239-16-5v6c0 2.761 7.163 5 16 5s16-2.239 16-5v-6c0 2.761-7.163 5-16 5z\"></path>\n",
       "<path d=\"M16 26c-8.837 0-16-2.239-16-5v6c0 2.761 7.163 5 16 5s16-2.239 16-5v-6c0 2.761-7.163 5-16 5z\"></path>\n",
       "</symbol>\n",
       "<symbol id=\"icon-file-text2\" viewBox=\"0 0 32 32\">\n",
       "<path d=\"M28.681 7.159c-0.694-0.947-1.662-2.053-2.724-3.116s-2.169-2.030-3.116-2.724c-1.612-1.182-2.393-1.319-2.841-1.319h-15.5c-1.378 0-2.5 1.121-2.5 2.5v27c0 1.378 1.122 2.5 2.5 2.5h23c1.378 0 2.5-1.122 2.5-2.5v-19.5c0-0.448-0.137-1.23-1.319-2.841zM24.543 5.457c0.959 0.959 1.712 1.825 2.268 2.543h-4.811v-4.811c0.718 0.556 1.584 1.309 2.543 2.268zM28 29.5c0 0.271-0.229 0.5-0.5 0.5h-23c-0.271 0-0.5-0.229-0.5-0.5v-27c0-0.271 0.229-0.5 0.5-0.5 0 0 15.499-0 15.5 0v7c0 0.552 0.448 1 1 1h7v19.5z\"></path>\n",
       "<path d=\"M23 26h-14c-0.552 0-1-0.448-1-1s0.448-1 1-1h14c0.552 0 1 0.448 1 1s-0.448 1-1 1z\"></path>\n",
       "<path d=\"M23 22h-14c-0.552 0-1-0.448-1-1s0.448-1 1-1h14c0.552 0 1 0.448 1 1s-0.448 1-1 1z\"></path>\n",
       "<path d=\"M23 18h-14c-0.552 0-1-0.448-1-1s0.448-1 1-1h14c0.552 0 1 0.448 1 1s-0.448 1-1 1z\"></path>\n",
       "</symbol>\n",
       "</defs>\n",
       "</svg>\n",
       "<style>/* CSS stylesheet for displaying xarray objects in jupyterlab.\n",
       " *\n",
       " */\n",
       "\n",
       ":root {\n",
       "  --xr-font-color0: var(--jp-content-font-color0, rgba(0, 0, 0, 1));\n",
       "  --xr-font-color2: var(--jp-content-font-color2, rgba(0, 0, 0, 0.54));\n",
       "  --xr-font-color3: var(--jp-content-font-color3, rgba(0, 0, 0, 0.38));\n",
       "  --xr-border-color: var(--jp-border-color2, #e0e0e0);\n",
       "  --xr-disabled-color: var(--jp-layout-color3, #bdbdbd);\n",
       "  --xr-background-color: var(--jp-layout-color0, white);\n",
       "  --xr-background-color-row-even: var(--jp-layout-color1, white);\n",
       "  --xr-background-color-row-odd: var(--jp-layout-color2, #eeeeee);\n",
       "}\n",
       "\n",
       "html[theme=dark],\n",
       "body.vscode-dark {\n",
       "  --xr-font-color0: rgba(255, 255, 255, 1);\n",
       "  --xr-font-color2: rgba(255, 255, 255, 0.54);\n",
       "  --xr-font-color3: rgba(255, 255, 255, 0.38);\n",
       "  --xr-border-color: #1F1F1F;\n",
       "  --xr-disabled-color: #515151;\n",
       "  --xr-background-color: #111111;\n",
       "  --xr-background-color-row-even: #111111;\n",
       "  --xr-background-color-row-odd: #313131;\n",
       "}\n",
       "\n",
       ".xr-wrap {\n",
       "  display: block;\n",
       "  min-width: 300px;\n",
       "  max-width: 700px;\n",
       "}\n",
       "\n",
       ".xr-text-repr-fallback {\n",
       "  /* fallback to plain text repr when CSS is not injected (untrusted notebook) */\n",
       "  display: none;\n",
       "}\n",
       "\n",
       ".xr-header {\n",
       "  padding-top: 6px;\n",
       "  padding-bottom: 6px;\n",
       "  margin-bottom: 4px;\n",
       "  border-bottom: solid 1px var(--xr-border-color);\n",
       "}\n",
       "\n",
       ".xr-header > div,\n",
       ".xr-header > ul {\n",
       "  display: inline;\n",
       "  margin-top: 0;\n",
       "  margin-bottom: 0;\n",
       "}\n",
       "\n",
       ".xr-obj-type,\n",
       ".xr-array-name {\n",
       "  margin-left: 2px;\n",
       "  margin-right: 10px;\n",
       "}\n",
       "\n",
       ".xr-obj-type {\n",
       "  color: var(--xr-font-color2);\n",
       "}\n",
       "\n",
       ".xr-sections {\n",
       "  padding-left: 0 !important;\n",
       "  display: grid;\n",
       "  grid-template-columns: 150px auto auto 1fr 20px 20px;\n",
       "}\n",
       "\n",
       ".xr-section-item {\n",
       "  display: contents;\n",
       "}\n",
       "\n",
       ".xr-section-item input {\n",
       "  display: none;\n",
       "}\n",
       "\n",
       ".xr-section-item input + label {\n",
       "  color: var(--xr-disabled-color);\n",
       "}\n",
       "\n",
       ".xr-section-item input:enabled + label {\n",
       "  cursor: pointer;\n",
       "  color: var(--xr-font-color2);\n",
       "}\n",
       "\n",
       ".xr-section-item input:enabled + label:hover {\n",
       "  color: var(--xr-font-color0);\n",
       "}\n",
       "\n",
       ".xr-section-summary {\n",
       "  grid-column: 1;\n",
       "  color: var(--xr-font-color2);\n",
       "  font-weight: 500;\n",
       "}\n",
       "\n",
       ".xr-section-summary > span {\n",
       "  display: inline-block;\n",
       "  padding-left: 0.5em;\n",
       "}\n",
       "\n",
       ".xr-section-summary-in:disabled + label {\n",
       "  color: var(--xr-font-color2);\n",
       "}\n",
       "\n",
       ".xr-section-summary-in + label:before {\n",
       "  display: inline-block;\n",
       "  content: '►';\n",
       "  font-size: 11px;\n",
       "  width: 15px;\n",
       "  text-align: center;\n",
       "}\n",
       "\n",
       ".xr-section-summary-in:disabled + label:before {\n",
       "  color: var(--xr-disabled-color);\n",
       "}\n",
       "\n",
       ".xr-section-summary-in:checked + label:before {\n",
       "  content: '▼';\n",
       "}\n",
       "\n",
       ".xr-section-summary-in:checked + label > span {\n",
       "  display: none;\n",
       "}\n",
       "\n",
       ".xr-section-summary,\n",
       ".xr-section-inline-details {\n",
       "  padding-top: 4px;\n",
       "  padding-bottom: 4px;\n",
       "}\n",
       "\n",
       ".xr-section-inline-details {\n",
       "  grid-column: 2 / -1;\n",
       "}\n",
       "\n",
       ".xr-section-details {\n",
       "  display: none;\n",
       "  grid-column: 1 / -1;\n",
       "  margin-bottom: 5px;\n",
       "}\n",
       "\n",
       ".xr-section-summary-in:checked ~ .xr-section-details {\n",
       "  display: contents;\n",
       "}\n",
       "\n",
       ".xr-array-wrap {\n",
       "  grid-column: 1 / -1;\n",
       "  display: grid;\n",
       "  grid-template-columns: 20px auto;\n",
       "}\n",
       "\n",
       ".xr-array-wrap > label {\n",
       "  grid-column: 1;\n",
       "  vertical-align: top;\n",
       "}\n",
       "\n",
       ".xr-preview {\n",
       "  color: var(--xr-font-color3);\n",
       "}\n",
       "\n",
       ".xr-array-preview,\n",
       ".xr-array-data {\n",
       "  padding: 0 5px !important;\n",
       "  grid-column: 2;\n",
       "}\n",
       "\n",
       ".xr-array-data,\n",
       ".xr-array-in:checked ~ .xr-array-preview {\n",
       "  display: none;\n",
       "}\n",
       "\n",
       ".xr-array-in:checked ~ .xr-array-data,\n",
       ".xr-array-preview {\n",
       "  display: inline-block;\n",
       "}\n",
       "\n",
       ".xr-dim-list {\n",
       "  display: inline-block !important;\n",
       "  list-style: none;\n",
       "  padding: 0 !important;\n",
       "  margin: 0;\n",
       "}\n",
       "\n",
       ".xr-dim-list li {\n",
       "  display: inline-block;\n",
       "  padding: 0;\n",
       "  margin: 0;\n",
       "}\n",
       "\n",
       ".xr-dim-list:before {\n",
       "  content: '(';\n",
       "}\n",
       "\n",
       ".xr-dim-list:after {\n",
       "  content: ')';\n",
       "}\n",
       "\n",
       ".xr-dim-list li:not(:last-child):after {\n",
       "  content: ',';\n",
       "  padding-right: 5px;\n",
       "}\n",
       "\n",
       ".xr-has-index {\n",
       "  font-weight: bold;\n",
       "}\n",
       "\n",
       ".xr-var-list,\n",
       ".xr-var-item {\n",
       "  display: contents;\n",
       "}\n",
       "\n",
       ".xr-var-item > div,\n",
       ".xr-var-item label,\n",
       ".xr-var-item > .xr-var-name span {\n",
       "  background-color: var(--xr-background-color-row-even);\n",
       "  margin-bottom: 0;\n",
       "}\n",
       "\n",
       ".xr-var-item > .xr-var-name:hover span {\n",
       "  padding-right: 5px;\n",
       "}\n",
       "\n",
       ".xr-var-list > li:nth-child(odd) > div,\n",
       ".xr-var-list > li:nth-child(odd) > label,\n",
       ".xr-var-list > li:nth-child(odd) > .xr-var-name span {\n",
       "  background-color: var(--xr-background-color-row-odd);\n",
       "}\n",
       "\n",
       ".xr-var-name {\n",
       "  grid-column: 1;\n",
       "}\n",
       "\n",
       ".xr-var-dims {\n",
       "  grid-column: 2;\n",
       "}\n",
       "\n",
       ".xr-var-dtype {\n",
       "  grid-column: 3;\n",
       "  text-align: right;\n",
       "  color: var(--xr-font-color2);\n",
       "}\n",
       "\n",
       ".xr-var-preview {\n",
       "  grid-column: 4;\n",
       "}\n",
       "\n",
       ".xr-var-name,\n",
       ".xr-var-dims,\n",
       ".xr-var-dtype,\n",
       ".xr-preview,\n",
       ".xr-attrs dt {\n",
       "  white-space: nowrap;\n",
       "  overflow: hidden;\n",
       "  text-overflow: ellipsis;\n",
       "  padding-right: 10px;\n",
       "}\n",
       "\n",
       ".xr-var-name:hover,\n",
       ".xr-var-dims:hover,\n",
       ".xr-var-dtype:hover,\n",
       ".xr-attrs dt:hover {\n",
       "  overflow: visible;\n",
       "  width: auto;\n",
       "  z-index: 1;\n",
       "}\n",
       "\n",
       ".xr-var-attrs,\n",
       ".xr-var-data {\n",
       "  display: none;\n",
       "  background-color: var(--xr-background-color) !important;\n",
       "  padding-bottom: 5px !important;\n",
       "}\n",
       "\n",
       ".xr-var-attrs-in:checked ~ .xr-var-attrs,\n",
       ".xr-var-data-in:checked ~ .xr-var-data {\n",
       "  display: block;\n",
       "}\n",
       "\n",
       ".xr-var-data > table {\n",
       "  float: right;\n",
       "}\n",
       "\n",
       ".xr-var-name span,\n",
       ".xr-var-data,\n",
       ".xr-attrs {\n",
       "  padding-left: 25px !important;\n",
       "}\n",
       "\n",
       ".xr-attrs,\n",
       ".xr-var-attrs,\n",
       ".xr-var-data {\n",
       "  grid-column: 1 / -1;\n",
       "}\n",
       "\n",
       "dl.xr-attrs {\n",
       "  padding: 0;\n",
       "  margin: 0;\n",
       "  display: grid;\n",
       "  grid-template-columns: 125px auto;\n",
       "}\n",
       "\n",
       ".xr-attrs dt,\n",
       ".xr-attrs dd {\n",
       "  padding: 0;\n",
       "  margin: 0;\n",
       "  float: left;\n",
       "  padding-right: 10px;\n",
       "  width: auto;\n",
       "}\n",
       "\n",
       ".xr-attrs dt {\n",
       "  font-weight: normal;\n",
       "  grid-column: 1;\n",
       "}\n",
       "\n",
       ".xr-attrs dt:hover span {\n",
       "  display: inline-block;\n",
       "  background: var(--xr-background-color);\n",
       "  padding-right: 10px;\n",
       "}\n",
       "\n",
       ".xr-attrs dd {\n",
       "  grid-column: 2;\n",
       "  white-space: pre-wrap;\n",
       "  word-break: break-all;\n",
       "}\n",
       "\n",
       ".xr-icon-database,\n",
       ".xr-icon-file-text2 {\n",
       "  display: inline-block;\n",
       "  vertical-align: middle;\n",
       "  width: 1em;\n",
       "  height: 1.5em !important;\n",
       "  stroke-width: 0;\n",
       "  stroke: currentColor;\n",
       "  fill: currentColor;\n",
       "}\n",
       "</style><pre class='xr-text-repr-fallback'>&lt;xarray.DataArray &#x27;mole_fraction_hl&#x27; (column: 6, half_level: 54)&gt;\n",
       "array([[0.016078, 0.016078, 0.016078, ..., 0.016078, 0.016078, 0.016078],\n",
       "       [0.016078, 0.016078, 0.016078, ..., 0.016078, 0.016078, 0.016078],\n",
       "       [0.016078, 0.016078, 0.016078, ..., 0.016078, 0.016078, 0.016078],\n",
       "       [0.016078, 0.016078, 0.016078, ..., 0.016078, 0.016078, 0.016078],\n",
       "       [0.016078, 0.016078, 0.016078, ..., 0.016078, 0.016078, 0.016078],\n",
       "       [0.016078, 0.016078, 0.016078, ..., 0.016078, 0.016078, 0.016078]],\n",
       "      dtype=float32)\n",
       "Coordinates:\n",
       "  * half_level  (half_level) int16 1 2 3 4 5 6 7 8 9 ... 47 48 49 50 51 52 53 54\n",
       "Dimensions without coordinates: column\n",
       "Attributes:\n",
       "    long_name:      H2O mole fraction at half levels\n",
       "    units:          1\n",
       "    standard_name:  mole_fraction_of_water_vapor_in_air</pre><div class='xr-wrap' hidden><div class='xr-header'><div class='xr-obj-type'>xarray.DataArray</div><div class='xr-array-name'>'mole_fraction_hl'</div><ul class='xr-dim-list'><li><span>column</span>: 6</li><li><span class='xr-has-index'>half_level</span>: 54</li></ul></div><ul class='xr-sections'><li class='xr-section-item'><div class='xr-array-wrap'><input id='section-9f5f0f5f-93e8-4fde-a31f-4ea01a396c6b' class='xr-array-in' type='checkbox' checked><label for='section-9f5f0f5f-93e8-4fde-a31f-4ea01a396c6b' title='Show/hide data repr'><svg class='icon xr-icon-database'><use xlink:href='#icon-database'></use></svg></label><div class='xr-array-preview xr-preview'><span>0.01608 0.01608 0.01608 0.01608 ... 0.01608 0.01608 0.01608 0.01608</span></div><div class='xr-array-data'><pre>array([[0.016078, 0.016078, 0.016078, ..., 0.016078, 0.016078, 0.016078],\n",
       "       [0.016078, 0.016078, 0.016078, ..., 0.016078, 0.016078, 0.016078],\n",
       "       [0.016078, 0.016078, 0.016078, ..., 0.016078, 0.016078, 0.016078],\n",
       "       [0.016078, 0.016078, 0.016078, ..., 0.016078, 0.016078, 0.016078],\n",
       "       [0.016078, 0.016078, 0.016078, ..., 0.016078, 0.016078, 0.016078],\n",
       "       [0.016078, 0.016078, 0.016078, ..., 0.016078, 0.016078, 0.016078]],\n",
       "      dtype=float32)</pre></div></div></li><li class='xr-section-item'><input id='section-960b3a18-449b-4ee4-bbb2-8e8e41b213ed' class='xr-section-summary-in' type='checkbox'  checked><label for='section-960b3a18-449b-4ee4-bbb2-8e8e41b213ed' class='xr-section-summary' >Coordinates: <span>(1)</span></label><div class='xr-section-inline-details'></div><div class='xr-section-details'><ul class='xr-var-list'><li class='xr-var-item'><div class='xr-var-name'><span class='xr-has-index'>half_level</span></div><div class='xr-var-dims'>(half_level)</div><div class='xr-var-dtype'>int16</div><div class='xr-var-preview xr-preview'>1 2 3 4 5 6 7 ... 49 50 51 52 53 54</div><input id='attrs-4a6d74c8-e663-464e-b7b8-5"
      ],
      "text/plain": [
       "<xarray.DataArray 'mole_fraction_hl' (column: 6, half_level: 54)>\n",
       "array([[0.016078, 0.016078, 0.016078, ..., 0.016078, 0.016078, 0.016078],\n",
       "       [0.016078, 0.016078, 0.016078, ..., 0.016078, 0.016078, 0.016078],\n",
       "       [0.016078, 0.016078, 0.016078, ..., 0.016078, 0.016078, 0.016078],\n",
       "       [0.016078, 0.016078, 0.016078, ..., 0.016078, 0.016078, 0.016078],\n",
       "       [0.016078, 0.016078, 0.016078, ..., 0.016078, 0.016078, 0.016078],\n",
       "       [0.016078, 0.016078, 0.016078, ..., 0.016078, 0.016078, 0.016078]],\n",
       "      dtype=float32)\n",
       "Coordinates:\n",
       "  * half_level  (half_level) int16 1 2 3 4 5 6 7 8 9 ... 47 48 49 50 51 52 53 54\n",
       "Dimensions without coordinates: column\n",
       "Attributes:\n",
       "    long_name:      H2O mole fraction at half levels\n",
       "    units:          1\n",
       "    standard_name:  mole_fraction_of_water_vapor_in_air"
      ]
     },
     "execution_count": 8,
     "metadata": {},
     "output_type": "execute_result"
    },
    {
     "data": {
      "text/html": [
       "<b>limit_output extension: Maximum message size of 10000 exceeded with 11584 characters</b>"
      ]
     },
     "metadata": {},
     "output_type": "display_data"
    }
   ],
   "source": [
    "data.mole_fraction_hl"
   ]
  },
  {
   "cell_type": "code",
   "execution_count": 9,
   "metadata": {
    "ExecuteTime": {
     "end_time": "2022-05-13T15:47:37.646342Z",
     "start_time": "2022-05-13T15:47:37.638942Z"
    }
   },
   "outputs": [
    {
     "data": {
      "text/plain": [
       "KeysView(<xarray.Dataset>\n",
       "Dimensions:                          (level: 53, half_level: 54, column: 6, wavenumber: 7211999)\n",
       "Coordinates:\n",
       "  * level                            (level) int16 1 2 3 4 5 ... 49 50 51 52 53\n",
       "  * half_level                       (half_level) int16 1 2 3 4 ... 51 52 53 54\n",
       "  * wavenumber                       (wavenumber) float64 0.0002 ... 3.26e+03\n",
       "Dimensions without coordinates: column\n",
       "Data variables:\n",
       "    pressure_hl                      (column, half_level) float32 ...\n",
       "    temperature_hl                   (column, half_level) float32 ...\n",
       "    mole_fraction_hl                 (column, half_level) float32 0.01608 ......\n",
       "    pressure_fl                      (column, level) float32 ...\n",
       "    temperature_fl                   (column, level) float32 ...\n",
       "    mole_fraction_fl                 (column, level) float32 ...\n",
       "    reference_surface_mole_fraction  float32 ...\n",
       "    optical_depth                    (column, level, wavenumber) float32 ...\n",
       "Attributes: (12/14)\n",
       "    title:             Spectral optical depth profiles of H2O\n",
       "    institution:       European Centre for Medium-Range Weather Forecasts (EC...\n",
       "    source:            Line-By-Line Radiative Transfer Model (LBLRTM)\n",
       "    creator_name:      Robin Hogan\n",
       "    creator_email:     r.j.hogan@ecmwf.int\n",
       "    contributor_name:  Marco Matricardi\n",
       "    ...                ...\n",
       "    comment:           LBLRTM computes layer optical depth from half-level pr...\n",
       "    conventions:       CF-1.7\n",
       "    constituent_id:    h2o\n",
       "    profile_type:      constant-k\n",
       "    experiment:        Idealized\n",
       "    experiment_id:     idealized)"
      ]
     },
     "execution_count": 9,
     "metadata": {},
     "output_type": "execute_result"
    }
   ],
   "source": [
    "data.keys()"
   ]
  },
  {
   "cell_type": "code",
   "execution_count": 10,
   "metadata": {
    "ExecuteTime": {
     "end_time": "2022-05-13T15:47:39.624274Z",
     "start_time": "2022-05-13T15:47:39.619905Z"
    },
    "run_control": {
     "marked": false
    }
   },
   "outputs": [],
   "source": [
    "# DO IT MANUALLY\n",
    "def convert2kappa(i_pres,i_temp,data):\n",
    "    \n",
    "    M_d = 0.02897 # kg/mol\n",
    "    g = 9.81\n",
    "    \n",
    "    tau = data.optical_depth[i_temp,i_pres]\n",
    "    mole_fraction_i = data.mole_fraction_hl[i_temp,i_pres]\n",
    "    pres_plus = data.pressure_hl[i_temp,i_pres]\n",
    "    pres_minus = data.pressure_hl[i_temp,i_pres-1]\n",
    "    \n",
    "    kappa_i = g*M_d*tau / (mole_fraction_i*(pres_plus-pres_minus))\n",
    "    \n",
    "    return kappa_i"
   ]
  },
  {
   "cell_type": "code",
   "execution_count": 11,
   "metadata": {
    "ExecuteTime": {
     "end_time": "2022-05-13T15:47:46.181098Z",
     "start_time": "2022-05-13T15:47:40.187173Z"
    }
   },
   "outputs": [
    {
     "name": "stdout",
     "output_type": "stream",
     "text": [
      "<xarray.DataArray 'pressure_fl' ()>\n",
      "array(69405.305, dtype=float32)\n",
      "Coordinates:\n",
      "    level    int16 51\n",
      "Attributes:\n",
      "    long_name:      Layer-mean pressure\n",
      "    units:          Pa\n",
      "    standard_name:  air_pressure <xarray.DataArray 'temperature_fl' ()>\n",
      "array(275.88715, dtype=float32)\n",
      "Coordinates:\n",
      "    level    int16 51\n",
      "Attributes:\n",
      "    long_name:      Layer-mean temperature\n",
      "    units:          K\n",
      "    standard_name:  air_temperature\n"
     ]
    }
   ],
   "source": [
    "data = h2o_data_nocont\n",
    "\n",
    "i_pres = np.where(data.pressure_fl[0] <= pres_ref)[0][-1]\n",
    "i_temp = np.where(data.temperature_fl[:,i_pres] <= temp_ref)[0][-1]\n",
    "temp_ref = data.temperature_fl[i_temp,i_pres]\n",
    "pres_ref = data.pressure_fl[0][i_pres]\n",
    "print(pres_ref,temp_ref)\n",
    "\n",
    "kappa_h2o = convert2kappa(i_pres,i_temp,data)"
   ]
  },
  {
   "cell_type": "code",
   "execution_count": 12,
   "metadata": {
    "ExecuteTime": {
     "end_time": "2022-05-13T15:47:48.138258Z",
     "start_time": "2022-05-13T15:47:48.105195Z"
    }
   },
   "outputs": [],
   "source": [
    "kappa_h2o_range = kappa_h2o.sel(wavenumber=slice(150,1450))\n",
    "wn_range = data.wavenumber.sel(wavenumber=slice(150,1450))"
   ]
  },
  {
   "cell_type": "code",
   "execution_count": 13,
   "metadata": {
    "ExecuteTime": {
     "end_time": "2022-05-13T15:47:49.114403Z",
     "start_time": "2022-05-13T15:47:49.110053Z"
    }
   },
   "outputs": [
    {
     "data": {
      "text/plain": [
       "'kappa_h20_no_continuum_694hPa_276K.pdf'"
      ]
     },
     "execution_count": 13,
     "metadata": {},
     "output_type": "execute_result"
    }
   ],
   "source": [
    "'kappa_h20_no_continuum_%3.0fhPa_%3.0fK.pdf'%(pres_ref/100,temp_ref)"
   ]
  },
  {
   "cell_type": "code",
   "execution_count": 17,
   "metadata": {
    "ExecuteTime": {
     "end_time": "2022-05-14T07:13:51.030966Z",
     "start_time": "2022-05-14T07:13:47.812313Z"
    }
   },
   "outputs": [
    {
     "data": {
      "image/png": "[encoded data removed]",
      "text/plain": [
       "<Figure size 360x216 with 1 Axes>"
      ]
     },
     "metadata": {
      "needs_background": "light"
     },
     "output_type": "display_data"
    }
   ],
   "source": [
    "fig,ax = plt.subplots(ncols=1,figsize=(5,3))\n",
    "\n",
    "ax.plot(wn_range,kappa_h2o_range,linewidth=0.1,c='mediumblue')\n",
    "\n",
    "ax.set_yscale('log')\n",
    "ax.set_ylabel(r'Extinction coefficient $\\kappa$ (m2/kg)')\n",
    "ax.set_xlabel(r'Wavenumber $\\tilde{\\nu}$ (cm$^{-1}$)')\n",
    "\n",
    "ax.set_ylim((1e-7,3e3))\n",
    "\n",
    "plt.savefig(os.path.join(figdir,scriptsubdir,'kappa_h2o_no_continuum_%3.0fhPa_%3.0fK.pdf'%(pres_ref/100,temp_ref)),bbox_inches='tight')\n"
   ]
  },
  {
   "cell_type": "markdown",
   "metadata": {},
   "source": [
    "# with CO2"
   ]
  },
  {
   "cell_type": "code",
   "execution_count": 162,
   "metadata": {
    "ExecuteTime": {
     "end_time": "2022-05-13T15:28:01.276984Z",
     "start_time": "2022-05-13T15:28:01.106937Z"
    }
   },
   "outputs": [],
   "source": [
    "co2_base   = 'ckdmip_idealized_lw_spectra_co2_constant'\n",
    "\n",
    "hdf5file = os.path.join(dataDir,'{}.h5'.format(co2_base))\n",
    "co2_data = xr.open_dataset(hdf5file, engine='h5netcdf')"
   ]
  },
  {
   "cell_type": "code",
   "execution_count": 163,
   "metadata": {
    "ExecuteTime": {
     "end_time": "2022-05-13T15:28:09.233752Z",
     "start_time": "2022-05-13T15:28:01.922246Z"
    }
   },
   "outputs": [
    {
     "name": "stdout",
     "output_type": "stream",
     "text": [
      "<xarray.DataArray 'pressure_fl' ()>\n",
      "array(69405.305, dtype=float32)\n",
      "Coordinates:\n",
      "    level    int16 51\n",
      "Attributes:\n",
      "    long_name:      Layer-mean pressure\n",
      "    units:          Pa\n",
      "    standard_name:  air_pressure <xarray.DataArray 'temperature_fl' ()>\n",
      "array(275.88715, dtype=float32)\n",
      "Coordinates:\n",
      "    level    int16 51\n",
      "Attributes:\n",
      "    long_name:      Layer-mean temperature\n",
      "    units:          K\n",
      "    standard_name:  air_temperature\n"
     ]
    }
   ],
   "source": [
    "data = co2_data\n",
    "\n",
    "i_pres = np.where(data.pressure_fl[0] <= pres_ref)[0][-1]\n",
    "i_temp = np.where(data.temperature_fl[:,i_pres] <= temp_ref)[0][-1]\n",
    "print(data.pressure_fl[0][i_pres],data.temperature_fl[i_temp,i_pres] )\n",
    "\n",
    "kappa_co2 = convert2kappa(i_pres,i_temp,data)"
   ]
  },
  {
   "cell_type": "code",
   "execution_count": 164,
   "metadata": {
    "ExecuteTime": {
     "end_time": "2022-05-13T15:28:34.810400Z",
     "start_time": "2022-05-13T15:28:34.765257Z"
    }
   },
   "outputs": [],
   "source": [
    "kappa_co2_range = kappa_co2.sel(wavenumber=slice(150,1450))\n",
    "wn_range = data.wavenumber.sel(wavenumber=slice(150,1450))"
   ]
  },
  {
   "cell_type": "code",
   "execution_count": 173,
   "metadata": {
    "ExecuteTime": {
     "end_time": "2022-05-13T15:31:27.966541Z",
     "start_time": "2022-05-13T15:31:24.746790Z"
    }
   },
   "outputs": [
    {
     "ename": "TypeError",
     "evalue": "savefig() missing 1 required positional argument: 'fname'",
     "output_type": "error",
     "traceback": [
      "\u001b[0;31m---------------------------------------------------------------------------\u001b[0m",
      "\u001b[0;31mTypeError\u001b[0m                                 Traceback (most recent call last)",
      "\u001b[0;32m<ipython-input-173-b86ca59f952b>\u001b[0m in \u001b[0;36m<module>\u001b[0;34m\u001b[0m\n\u001b[1;32m     13\u001b[0m \u001b[0max\u001b[0m\u001b[0;34m.\u001b[0m\u001b[0mset_ylim\u001b[0m\u001b[0;34m(\u001b[0m\u001b[0;34m(\u001b[0m\u001b[0;36m1e-7\u001b[0m\u001b[0;34m,\u001b[0m\u001b[0;36m3e3\u001b[0m\u001b[0;34m)\u001b[0m\u001b[0;34m)\u001b[0m\u001b[0;34m\u001b[0m\u001b[0;34m\u001b[0m\u001b[0m\n\u001b[1;32m     14\u001b[0m \u001b[0;34m\u001b[0m\u001b[0m\n\u001b[0;32m---> 15\u001b[0;31m \u001b[0mplt\u001b[0m\u001b[0;34m.\u001b[0m\u001b[0msavefig\u001b[0m\u001b[0;34m(\u001b[0m\u001b[0;34m)\u001b[0m\u001b[0;34m\u001b[0m\u001b[0;34m\u001b[0m\u001b[0m\n\u001b[0m",
      "\u001b[0;32m~/anaconda3/envs/pyLMD/lib/python3.7/site-packages/matplotlib/pyplot.py\u001b[0m in \u001b[0;36msavefig\u001b[0;34m(*args, **kwargs)\u001b[0m\n\u001b[1;32m    727\u001b[0m         for examples.  (Note: does not work with `add_subplot` or\n\u001b[1;32m    728\u001b[0m         `~.pyplot.subplot2grid`.)\n\u001b[0;32m--> 729\u001b[0;31m \u001b[0;34m\u001b[0m\u001b[0m\n\u001b[0m\u001b[1;32m    730\u001b[0m \u001b[0;34m\u001b[0m\u001b[0m\n\u001b[1;32m    731\u001b[0m     \u001b[0;34m**\u001b[0m\u001b[0mkwargs\u001b[0m \u001b[0;34m:\u001b[0m\u001b[0;31m \u001b[0m\u001b[0moptional\u001b[0m\u001b[0;34m\u001b[0m\u001b[0;34m\u001b[0m\u001b[0m\n",
      "\u001b[0;31mTypeError\u001b[0m: savefig() missing 1 required positional argument: 'fname'"
     ]
    },
    {
     "data": {
      "image/png": "[encoded data removed]",
      "text/plain": [
       "<Figure size 360x216 with 1 Axes>"
      ]
     },
     "metadata": {
      "needs_background": "light"
     },
     "output_type": "display_data"
    }
   ],
   "source": [
    "fig,ax = plt.subplots(ncols=1,figsize=(5,3))\n",
    "\n",
    "# CO2\n",
    "ax.plot(wn_range,kappa_co2_range,linewidth=0.1,c='darkred',alpha=0.5)\n",
    "\n",
    "# H2O\n",
    "ax.plot(wn_range,kappa_h2o_range,linewidth=0.1,c='mediumblue')\n",
    "\n",
    "ax.set_yscale('log')\n",
    "ax.set_ylabel(r'Extinction coefficient $\\kappa$ (m2/kg)')\n",
    "ax.set_xlabel(r'Wavenumber $\\tilde{\\nu}$ (cm$^{-1}$)')\n",
    "\n",
    "ax.set_ylim((1e-7,3e3))\n",
    "\n",
    "plt.savefig()"
   ]
  },
  {
   "cell_type": "markdown",
   "metadata": {},
   "source": [
    "## Interpolate to find extinction coefficients at the reference T, p"
   ]
  },
  {
   "cell_type": "code",
   "execution_count": 11,
   "metadata": {
    "ExecuteTime": {
     "end_time": "2022-05-26T19:18:29.802633Z",
     "start_time": "2022-05-26T19:18:29.799810Z"
    }
   },
   "outputs": [],
   "source": [
    "data = h2o_data_nocont"
   ]
  },
  {
   "cell_type": "code",
   "execution_count": 12,
   "metadata": {
    "ExecuteTime": {
     "end_time": "2022-05-26T19:18:30.305506Z",
     "start_time": "2022-05-26T19:18:30.231624Z"
    }
   },
   "outputs": [
    {
     "data": {
      "text/plain": [
       "<matplotlib.image.AxesImage at 0x7fe10cd91290>"
      ]
     },
     "execution_count": 12,
     "metadata": {},
     "output_type": "execute_result"
    },
    {
     "data": {
      "image/png": "[encoded data removed]",
      "text/plain": [
       "<Figure size 432x288 with 1 Axes>"
      ]
     },
     "metadata": {
      "needs_background": "light"
     },
     "output_type": "display_data"
    }
   ],
   "source": [
    "plt.imshow(data.pressure_hl)"
   ]
  },
  {
   "cell_type": "code",
   "execution_count": 13,
   "metadata": {
    "ExecuteTime": {
     "end_time": "2022-05-26T19:18:37.052318Z",
     "start_time": "2022-05-26T19:18:36.970539Z"
    }
   },
   "outputs": [
    {
     "data": {
      "text/plain": [
       "<matplotlib.image.AxesImage at 0x7fe10d4ef590>"
      ]
     },
     "execution_count": 13,
     "metadata": {},
     "output_type": "execute_result"
    },
    {
     "data": {
      "image/png": "[encoded data removed]",
      "text/plain": [
       "<Figure size 432x288 with 1 Axes>"
      ]
     },
     "metadata": {
      "needs_background": "light"
     },
     "output_type": "display_data"
    }
   ],
   "source": [
    "plt.imshow(data.temperature_hl)"
   ]
  },
  {
   "cell_type": "code",
   "execution_count": 57,
   "metadata": {
    "ExecuteTime": {
     "end_time": "2022-05-26T20:09:17.974245Z",
     "start_time": "2022-05-26T20:09:17.954228Z"
    }
   },
   "outputs": [
    {
     "name": "stdout",
     "output_type": "stream",
     "text": [
      "size array (6, 53)\n",
      "reference pressure: 50 <xarray.DataArray 'pressure_fl' ()>\n",
      "array(69405.305, dtype=float32)\n",
      "Coordinates:\n",
      "    level    int16 51\n",
      "Attributes:\n",
      "    long_name:      Layer-mean pressure\n",
      "    units:          Pa\n",
      "    standard_name:  air_pressure\n",
      "reference temperature: 3 <xarray.DataArray 'temperature_fl' ()>\n",
      "array(275.88715, dtype=float32)\n",
      "Coordinates:\n",
      "    level    int16 51\n",
      "Attributes:\n",
      "    long_name:      Layer-mean temperature\n",
      "    units:          K\n",
      "    standard_name:  air_temperature\n"
     ]
    }
   ],
   "source": [
    "# look for where they are, approximately\n",
    "\n",
    "pres_ref = 80000 # Pa\n",
    "temp_ref = 290 # K\n",
    "\n",
    "i_pres = np.where(data.pressure_fl[0] <= pres_ref)[0][-1]\n",
    "i_temp = np.where(data.temperature_fl[:,i_pres] <= temp_ref)[0][-1]\n",
    "\n",
    "pres_ref_approx = data.pressure_fl[0][i_pres]\n",
    "temp_ref_approx = data.temperature_fl[i_temp][i_pres]\n",
    "\n",
    "print('size array',data.pressure_fl.shape)\n",
    "print('reference pressure:',i_pres,pres_ref_approx)\n",
    "print('reference temperature:',i_temp,temp_ref_approx)"
   ]
  },
  {
   "cell_type": "code",
   "execution_count": 37,
   "metadata": {
    "ExecuteTime": {
     "end_time": "2022-05-26T19:45:31.216797Z",
     "start_time": "2022-05-26T19:45:31.199846Z"
    }
   },
   "outputs": [
    {
     "name": "stdout",
     "output_type": "stream",
     "text": [
      "<xarray.DataArray 'pressure_fl' (column: 5, level: 5)>\n",
      "array([[ 43791.79 ,  55130.594,  69405.305,  87376.11 , 110000.   ],\n",
      "       [ 43791.79 ,  55130.594,  69405.305,  87376.11 , 110000.   ],\n",
      "       [ 43791.79 ,  55130.594,  69405.305,  87376.11 , 110000.   ],\n",
      "       [ 43791.79 ,  55130.594,  69405.305,  87376.11 , 110000.   ],\n",
      "       [ 43791.79 ,  55130.594,  69405.305,  87376.11 , 110000.   ]],\n",
      "      dtype=float32)\n",
      "Coordinates:\n",
      "  * level    (level) int16 49 50 51 52 53\n",
      "Dimensions without coordinates: column\n",
      "Attributes:\n",
      "    long_name:      Layer-mean pressure\n",
      "    units:          Pa\n",
      "    standard_name:  air_pressure\n",
      "<xarray.DataArray 'temperature_fl' (column: 5, level: 5)>\n",
      "array([[218.88715, 227.38715, 235.88715, 244.38715, 252.88715],\n",
      "       [238.88715, 247.38715, 255.88715, 264.38715, 272.88715],\n",
      "       [258.88715, 267.38715, 275.88715, 284.38715, 292.88715],\n",
      "       [278.88715, 287.38715, 295.88715, 304.38715, 312.88715],\n",
      "       [298.88715, 307.38715, 315.88715, 324.38715, 332.88715]], dtype=float32)\n",
      "Coordinates:\n",
      "  * level    (level) int16 49 50 51 52 53\n",
      "Dimensions without coordinates: column\n",
      "Attributes:\n",
      "    long_name:      Layer-mean temperature\n",
      "    units:          K\n",
      "    standard_name:  air_temperature\n"
     ]
    }
   ],
   "source": [
    "# extract values +-2 data points of index selected\n",
    "\n",
    "slice_temp = slice(i_temp-2,i_temp+3)\n",
    "slice_pres = slice(i_pres-2,i_pres+3)\n",
    "slice_pres_m1 = slice(i_pres-3,i_pres+2)\n",
    "\n",
    "pres_small = data.pressure_fl[slice_temp,slice_pres]\n",
    "temp_small = data.temperature_fl[slice_temp,slice_pres]\n",
    "\n",
    "print(pres_small)\n",
    "print(temp_small)"
   ]
  },
  {
   "cell_type": "code",
   "execution_count": 72,
   "metadata": {
    "ExecuteTime": {
     "end_time": "2022-05-26T20:19:28.391405Z",
     "start_time": "2022-05-26T20:19:28.377170Z"
    }
   },
   "outputs": [],
   "source": [
    "# Take the whold matrix and get the whole matrix for \n",
    "def convert2kappa(data,s_temp,s_pres,s_pres_m1):\n",
    "    \n",
    "    M_d = 0.02897 # kg/mol\n",
    "    g = 9.81\n",
    "    \n",
    "    tau = data.optical_depth[s_temp,s_pres]\n",
    "    N_nu = tau.shape[-1]\n",
    "    mole_fraction = np.repeat(np.expand_dims(data.mole_fraction_hl[s_temp,s_pres],axis=2),N_nu,axis=2)\n",
    "    pres_plus = np.repeat(np.expand_dims(data.pressure_hl[s_temp,s_pres],axis=2),N_nu,axis=2)\n",
    "    pres_minus = np.repeat(np.expand_dims(data.pressure_hl[s_temp,s_pres_m1],axis=2),N_nu,axis=2)\n",
    "    \n",
    "#     print(tau.shape,mole_fraction.shape,pres_plus.shape,pres_minus.shape)\n",
    "    \n",
    "    kappa = g*M_d*tau / (mole_fraction*(pres_plus-pres_minus))\n",
    "    \n",
    "    return kappa"
   ]
  },
  {
   "cell_type": "code",
   "execution_count": 55,
   "metadata": {
    "ExecuteTime": {
     "end_time": "2022-05-26T19:55:02.802259Z",
     "start_time": "2022-05-26T19:54:58.379460Z"
    }
   },
   "outputs": [
    {
     "name": "stdout",
     "output_type": "stream",
     "text": [
      "(5, 5, 7211999)\n"
     ]
    }
   ],
   "source": [
    "kappa = convert2kappa(data,slice_temp,slice_pres,slice_pres_m1)\n",
    "print(kappa.shape)"
   ]
  },
  {
   "cell_type": "code",
   "execution_count": 111,
   "metadata": {
    "ExecuteTime": {
     "end_time": "2022-05-26T20:46:04.439533Z",
     "start_time": "2022-05-26T20:46:00.297123Z"
    }
   },
   "outputs": [
    {
     "name": "stdout",
     "output_type": "stream",
     "text": [
      "(5, 7211999)\n",
      "(5,)\n",
      "(7211999,)\n",
      "(5, 7211999)\n",
      "(5,)\n",
      "(7211999,)\n"
     ]
    }
   ],
   "source": [
    "# interpolate along axis\n",
    "\n",
    "from scipy.interpolate import interp1d\n",
    "\n",
    "def interpolateKappa(temp_ref,pres_ref):\n",
    "\n",
    "    pres_small_1d = pres_small[0]\n",
    "\n",
    "    # first interpolate kappa on pressure, for each nu and temp\n",
    "    f_interp_kappa_on_pres = interp1d(pres_small_1d,kappa,axis=1)\n",
    "    kappa_interp_on_pres = f_interp_kappa_on_pres(pres_ref)\n",
    "    print(kappa_interp_on_pres.shape)\n",
    "\n",
    "    # do the same for temperature\n",
    "    f_interp_temp_on_pres = interp1d(pres_small_1d,temp_small,axis=1)\n",
    "    temp_small_interp_on_pres = f_interp_temp_on_pres(pres_ref)\n",
    "    print(temp_small_interp_on_pres.shape)\n",
    "\n",
    "    # use the interpolated kappa and interpolated temp, to interpolate one onto the other and get the final kappa array\n",
    "    f_interp_kappa_on_temp = interp1d(temp_small_interp_on_pres,kappa_interp_on_pres,axis=0)\n",
    "    kappa_interp_on_pres_temp = f_interp_kappa_on_temp(temp_ref)\n",
    "    print(kappa_interp_on_pres_temp.shape)\n",
    "\n",
    "    return kappa_interp_on_pres_temp\n",
    "\n",
    "kappa_interp_290_800 = interpolateKappa(290,80000)\n",
    "kappa_interp_260_500 = interpolateKappa(260,50000)\n",
    "# kappa_interp_260_500 = kappa[1,1]"
   ]
  },
  {
   "cell_type": "code",
   "execution_count": 124,
   "metadata": {
    "ExecuteTime": {
     "end_time": "2022-05-26T20:53:03.839268Z",
     "start_time": "2022-05-26T20:53:03.798610Z"
    }
   },
   "outputs": [
    {
     "name": "stdout",
     "output_type": "stream",
     "text": [
      "indices\n",
      "999999 6650000\n"
     ]
    }
   ],
   "source": [
    "# select wavenumber range\n",
    "\n",
    "# wn_min = 150 # cm-1\n",
    "wn_min = 200 # cm-1\n",
    "wn_max = 1450 # cm-1\n",
    "\n",
    "i_min = np.where(data.wavenumber >= wn_min)[0][0]\n",
    "i_max = np.where(data.wavenumber >= wn_max)[0][0]\n",
    "\n",
    "print('indices')\n",
    "print(i_min,i_max)\n",
    "\n",
    "slice_wn = slice(i_min,i_max)\n",
    "\n",
    "\n",
    "# kappa_h2o_interp_pres_temp_range = kappa_interp_on_pres_temp[slice_wn]\n",
    "kappa_interp_290_800_range = kappa_interp_290_800[slice_wn]\n",
    "kappa_interp_260_500_range = kappa_interp_260_500[slice_wn]\n",
    "\n",
    "wn_range = data.wavenumber[slice_wn]\n"
   ]
  },
  {
   "cell_type": "code",
   "execution_count": 125,
   "metadata": {
    "ExecuteTime": {
     "end_time": "2022-05-26T20:53:07.410280Z",
     "start_time": "2022-05-26T20:53:05.235041Z"
    }
   },
   "outputs": [
    {
     "data": {
      "text/plain": [
       "(1e-07, 3000.0)"
      ]
     },
     "execution_count": 125,
     "metadata": {},
     "output_type": "execute_result"
    },
    {
     "data": {
      "image/png": "[encoded data removed]",
      "text/plain": [
       "<Figure size 360x216 with 1 Axes>"
      ]
     },
     "metadata": {
      "needs_background": "light"
     },
     "output_type": "display_data"
    }
   ],
   "source": [
    "fig,ax = plt.subplots(ncols=1,figsize=(5,3))\n",
    "\n",
    "ax.plot(wn_range,kappa_interp_260_500_range,linewidth=0.1,c='r')\n",
    "ax.plot(wn_range,kappa_interp_290_800_range,linewidth=0.1,c='mediumblue')\n",
    "\n",
    "ax.set_yscale('log')\n",
    "ax.set_ylabel(r'Extinction coefficient $\\kappa$ (m2/kg)')\n",
    "ax.set_xlabel(r'Wavenumber $\\tilde{\\nu}$ (cm$^{-1}$)')\n",
    "\n",
    "ax.set_ylim((1e-7,3e3))\n",
    "\n",
    "# plt.savefig(os.path.join(figdir,scriptsubdir,'kappa_h2o_no_continuum_%3.0fhPa_%3.0fK.pdf'%(pres_ref/100,temp_ref)),bbox_inches='tight')\n"
   ]
  },
  {
   "cell_type": "code",
   "execution_count": 130,
   "metadata": {
    "ExecuteTime": {
     "end_time": "2022-05-26T21:07:01.666132Z",
     "start_time": "2022-05-26T21:07:01.263592Z"
    }
   },
   "outputs": [
    {
     "name": "stdout",
     "output_type": "stream",
     "text": [
      "56.120208952819716 1.4548732528765629\n",
      "slice(0, 4000001, None)\n",
      "59.17996764283727 2.3667290204329836\n",
      "slice(0, 4000001, None)\n"
     ]
    }
   ],
   "source": [
    "# linear interpolation of the rotational branch\n",
    "\n",
    "from scipy.stats import linregress\n",
    "\n",
    "i_max_rot = np.where(wn_range >= 1000)[0][0]\n",
    "slice_fit = slice(0,i_max_rot)\n",
    "\n",
    "# fix nu_rot = 150 cm-1\n",
    "# nu_rot = 150\n",
    "nu_rot = 200\n",
    "\n",
    "def fitRot(kappa):\n",
    "\n",
    "    slope, intercept, r, p, se = linregress(wn_range[slice_fit]-nu_rot,np.log(kappa[slice_fit]))\n",
    "    l_rot = -1/slope\n",
    "    kappa_rot = np.exp(intercept)\n",
    "    print(l_rot,kappa_rot)\n",
    "    print(slice_fit)\n",
    "    kappa_fit = kappa_rot * np.exp(-(wn_range[slice_fit]-nu_rot)/l_rot)\n",
    "    \n",
    "    return kappa_rot,l_rot,kappa_fit\n",
    "\n",
    "kappa_rot_260_500,l_rot_260_500,kappa_fit_260_500 = fitRot(kappa_interp_260_500_range)\n",
    "kappa_rot_290_800,l_rot_290_800,kappa_fit_290_800 = fitRot(kappa_interp_290_800_range)"
   ]
  },
  {
   "cell_type": "code",
   "execution_count": 131,
   "metadata": {
    "ExecuteTime": {
     "end_time": "2022-05-26T21:07:24.612820Z",
     "start_time": "2022-05-26T21:07:22.030291Z"
    }
   },
   "outputs": [
    {
     "data": {
      "text/plain": [
       "(1e-07, 3000.0)"
      ]
     },
     "execution_count": 131,
     "metadata": {},
     "output_type": "execute_result"
    },
    {
     "data": {
      "image/png": "[encoded data removed]",
      "text/plain": [
       "<Figure size 360x216 with 1 Axes>"
      ]
     },
     "metadata": {
      "needs_background": "light"
     },
     "output_type": "display_data"
    }
   ],
   "source": [
    "fig,ax = plt.subplots(ncols=1,figsize=(5,3))\n",
    "\n",
    "ax.plot(wn_range,kappa_interp_260_500_range,linewidth=0.1,c='r')\n",
    "ax.plot(wn_range[slice_fit],kappa_fit_260_500,linewidth=1,c='k',linestyle='--',)\n",
    "\n",
    "ax.set_yscale('log')\n",
    "ax.set_ylabel(r'Extinction coefficient $\\kappa$ (m2/kg)')\n",
    "ax.set_xlabel(r'Wavenumber $\\tilde{\\nu}$ (cm$^{-1}$)')\n",
    "\n",
    "ax.set_ylim((1e-7,3e3))\n",
    "\n",
    "# plt.savefig(os.path.join(figdir,scriptsubdir,'kappa_h2o_no_continuum_%3.0fhPa_%3.0fK.pdf'%(pres_ref/100,temp_ref)),bbox_inches='tight')\n"
   ]
  },
  {
   "cell_type": "markdown",
   "metadata": {},
   "source": [
    "The fitted coefficients are similar for $l_{rot} ~ 56$ cm-1 for JF2020 reference values, but the $\\kappa_{rot}$ coefficients are much lower, and it seems that this is due to the spectral resolution used when calculating the fit. The final values retained  for (290K,800hPa) are :\n",
    "\n",
    "$$\\kappa_{rot} = 2.36 m2/kg$$\n",
    "$$l_{rot} = 59.2 cm-1 $$ "
   ]
  },
  {
   "cell_type": "code",
   "execution_count": null,
   "metadata": {
    "ExecuteTime": {
     "end_time": "2022-05-26T21:06:21.158140Z",
     "start_time": "2022-05-26T21:06:21.153348Z"
    }
   },
   "outputs": [],
   "source": []
  },
  {
   "cell_type": "code",
   "execution_count": null,
   "metadata": {},
   "outputs": [],
   "source": []
  }
 ],
 "metadata": {
  "hide_input": false,
  "kernelspec": {
   "display_name": "Python 3",
   "language": "python",
   "name": "python3"
  },
  "language_info": {
   "codemirror_mode": {
    "name": "ipython",
    "version": 3
   },
   "file_extension": ".py",
   "mimetype": "text/x-python",
   "name": "python",
   "nbconvert_exporter": "python",
   "pygments_lexer": "ipython3",
   "version": "3.7.6"
  },
  "toc": {
   "base_numbering": 1,
   "nav_menu": {},
   "number_sections": true,
   "sideBar": true,
   "skip_h1_title": false,
   "title_cell": "Table of Contents",
   "title_sidebar": "Contents",
   "toc_cell": false,
   "toc_position": {},
   "toc_section_display": true,
   "toc_window_display": false
  },
  "varInspector": {
   "cols": {
    "lenName": 16,
    "lenType": 16,
    "lenVar": 40
   },
   "kernels_config": {
    "python": {
     "delete_cmd_postfix": "",
     "delete_cmd_prefix": "del ",
     "library": "var_list.py",
     "varRefreshCmd": "print(var_dic_list())"
    },
    "r": {
     "delete_cmd_postfix": ") ",
     "delete_cmd_prefix": "rm(",
     "library": "var_list.r",
     "varRefreshCmd": "cat(var_dic_list()) "
    }
   },
   "types_to_exclude": [
    "module",
    "function",
    "builtin_function_or_method",
    "instance",
    "_Feature"
   ],
   "window_display": false
  }
 },
 "nbformat": 4,
 "nbformat_minor": 4
}
