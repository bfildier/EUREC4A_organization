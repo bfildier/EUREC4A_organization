{
 "cells": [
  {
   "cell_type": "code",
   "execution_count": 13,
   "metadata": {
    "ExecuteTime": {
     "end_time": "2021-04-20T10:35:43.765935Z",
     "start_time": "2021-04-20T10:35:43.761879Z"
    }
   },
   "outputs": [],
   "source": [
    "import numpy as np\n",
    "import matplotlib\n",
    "import matplotlib.pyplot as plt\n",
    "import xarray as xr\n",
    "import pytz\n",
    "from datetime import datetime as dt,timedelta\n",
    "import sys,os,glob\n",
    "import matplotlib.image as mpimg"
   ]
  },
  {
   "cell_type": "code",
   "execution_count": 12,
   "metadata": {
    "ExecuteTime": {
     "end_time": "2021-04-20T10:35:19.949719Z",
     "start_time": "2021-04-20T10:35:19.944868Z"
    }
   },
   "outputs": [],
   "source": [
    "## Graphical parameters\n",
    "plt.style.use(os.path.join(matplotlib.get_configdir(),'stylelib/presentation.mplstyle'))"
   ]
  },
  {
   "cell_type": "code",
   "execution_count": 2,
   "metadata": {
    "ExecuteTime": {
     "end_time": "2021-04-20T10:31:44.496770Z",
     "start_time": "2021-04-20T10:31:44.487164Z"
    }
   },
   "outputs": [],
   "source": [
    "indir_mtpw = '/Users/bfildier/Data/satellite/MIMIC-TPW2/data/'\n",
    "indir_goespw = '/Users/bfildier/Data/satellite/GOES-PW/'\n",
    "indir_sonde_qrad = '/Users/bfildier/Data/EUREC4A/merged/radiative_profiles'"
   ]
  },
  {
   "cell_type": "code",
   "execution_count": 3,
   "metadata": {
    "ExecuteTime": {
     "end_time": "2021-04-20T10:32:03.932486Z",
     "start_time": "2021-04-20T10:32:03.928458Z"
    }
   },
   "outputs": [],
   "source": [
    "scriptdir = os.getcwd()\n",
    "repodir = os.path.dirname(scriptdir)\n",
    "figdir = os.path.join(repodir,'figures')\n",
    "os.makedirs(figdir,exist_ok=True)"
   ]
  },
  {
   "cell_type": "code",
   "execution_count": 15,
   "metadata": {
    "ExecuteTime": {
     "end_time": "2021-04-20T10:38:31.613596Z",
     "start_time": "2021-04-20T10:38:31.452471Z"
    }
   },
   "outputs": [
    {
     "name": "stdout",
     "output_type": "stream",
     "text": [
      "Own modules available: ['conditionalstats', 'radiativefeatures', 'matrixoperators']\n"
     ]
    }
   ],
   "source": [
    "## Own modules\n",
    "\n",
    "moduledir = os.path.join(repodir,'functions')\n",
    "\n",
    "sys.path.insert(0,moduledir)\n",
    "print(\"Own modules available:\", [os.path.splitext(os.path.basename(x))[0]\n",
    "                                 for x in glob.glob(os.path.join(moduledir,'*.py'))])\n",
    "\n",
    "from matrixoperators import *"
   ]
  },
  {
   "cell_type": "code",
   "execution_count": 18,
   "metadata": {
    "ExecuteTime": {
     "end_time": "2021-04-20T10:40:58.699451Z",
     "start_time": "2021-04-20T10:40:58.696214Z"
    }
   },
   "outputs": [],
   "source": [
    "day = '20200126'\n",
    "date = pytz.utc.localize(dt.strptime(day,'%Y%m%d'))\n",
    "\n",
    "lat_box = 11,16\n",
    "lon_box = -60,-52\n",
    "\n",
    "dim_t = 0\n",
    "dim_z = 1"
   ]
  },
  {
   "cell_type": "markdown",
   "metadata": {},
   "source": [
    "# Load data"
   ]
  },
  {
   "cell_type": "markdown",
   "metadata": {},
   "source": [
    "## Sonde profiles"
   ]
  },
  {
   "cell_type": "code",
   "execution_count": 5,
   "metadata": {
    "ExecuteTime": {
     "end_time": "2021-04-20T10:32:49.302596Z",
     "start_time": "2021-04-20T10:32:49.192589Z"
    }
   },
   "outputs": [
    {
     "name": "stdout",
     "output_type": "stream",
     "text": [
      "load rad profiles\n"
     ]
    }
   ],
   "source": [
    "print('load rad profiles')\n",
    "radprf = xr.open_dataset(os.path.join(indir_sonde_qrad,'rad_profiles_CF.nc'))"
   ]
  },
  {
   "cell_type": "code",
   "execution_count": 6,
   "metadata": {
    "ExecuteTime": {
     "end_time": "2021-04-20T10:32:55.261797Z",
     "start_time": "2021-04-20T10:32:53.883836Z"
    }
   },
   "outputs": [],
   "source": [
    "radprf_day = radprf.where(radprf.z_min<=50,drop=True).sel(launch_time=day)"
   ]
  },
  {
   "cell_type": "code",
   "execution_count": 22,
   "metadata": {
    "ExecuteTime": {
     "end_time": "2021-04-20T10:42:11.170185Z",
     "start_time": "2021-04-20T10:42:11.162998Z"
    },
    "run_control": {
     "marked": false
    }
   },
   "outputs": [
    {
     "name": "stdout",
     "output_type": "stream",
     "text": [
      "compute PW\n"
     ]
    },
    {
     "name": "stderr",
     "output_type": "stream",
     "text": [
      "/Users/bfildier/anaconda3/envs/pyLMD/lib/python3.7/site-packages/ipykernel_launcher.py:6: RuntimeWarning: Mean of empty slice\n",
      "  \n"
     ]
    }
   ],
   "source": [
    "print('compute PW')\n",
    "\n",
    "mo = MatrixOperators()\n",
    "\n",
    "QV_prf = radprf_day.specific_humidity.data # kg(w)/kg(a)\n",
    "pres = np.nanmean(radprf_day.pressure.data,axis=dim_t)*100 # hPa\n",
    "PW_prf = mo.pressureIntegral(QV_prf,pres,z_axis=dim_z)"
   ]
  },
  {
   "cell_type": "markdown",
   "metadata": {},
   "source": [
    "## GOES-TPW"
   ]
  },
  {
   "cell_type": "code",
   "execution_count": 25,
   "metadata": {
    "ExecuteTime": {
     "end_time": "2021-04-20T10:46:03.395688Z",
     "start_time": "2021-04-20T10:46:03.390422Z"
    }
   },
   "outputs": [],
   "source": [
    "goes_files = glob.glob(os.path.join(indir_goespw,day,'*.nc'))\n",
    "goes_files.sort()"
   ]
  },
  {
   "cell_type": "code",
   "execution_count": 26,
   "metadata": {
    "ExecuteTime": {
     "end_time": "2021-04-20T10:46:08.496555Z",
     "start_time": "2021-04-20T10:46:04.825819Z"
    }
   },
   "outputs": [
    {
     "name": "stdout",
     "output_type": "stream",
     "text": [
      "load and concatenate all GOES TPW files for that day\n"
     ]
    }
   ],
   "source": [
    "print('load and concatenate all GOES TPW files for that day')\n",
    "\n",
    "goes_all = []\n",
    "\n",
    "for file in goes_files:\n",
    "\n",
    "    data_new = xr.open_dataset(file)\n",
    "    goes_all.append(data_new)\n"
   ]
  },
  {
   "cell_type": "code",
   "execution_count": 28,
   "metadata": {
    "ExecuteTime": {
     "end_time": "2021-04-20T10:47:16.139051Z",
     "start_time": "2021-04-20T10:46:32.229877Z"
    }
   },
   "outputs": [],
   "source": [
    "## concatenate\n",
    "data_goes = xr.concat(goes_all,dim='t')"
   ]
  },
  {
   "cell_type": "code",
   "execution_count": 29,
   "metadata": {
    "ExecuteTime": {
     "end_time": "2021-04-20T10:54:13.939861Z",
     "start_time": "2021-04-20T10:54:13.936289Z"
    }
   },
   "outputs": [],
   "source": [
    "pw_goes = data_goes.TPW.data"
   ]
  },
  {
   "cell_type": "markdown",
   "metadata": {},
   "source": [
    "## Compute GOES PW at sonde locations"
   ]
  },
  {
   "cell_type": "code",
   "execution_count": 33,
   "metadata": {
    "ExecuteTime": {
     "end_time": "2021-04-20T10:58:22.848087Z",
     "start_time": "2021-04-20T10:58:22.591127Z"
    }
   },
   "outputs": [
    {
     "name": "stdout",
     "output_type": "stream",
     "text": [
      "Get coordinates of GOES PW values\n"
     ]
    }
   ],
   "source": [
    "print(\"Get coordinates of GOES PW values\")\n",
    "\n",
    "##-- code structures found here: https://github.com/blaylockbk/pyBKB_v2/blob/master/BB_goes16/mapping_GOES16_data.ipynb\n",
    "##-- detail on all angles: https://makersportal.com/blog/2018/11/25/goes-r-satellite-latitude-and-longitude-grid-projection-algorithm\n",
    "\n",
    "from mpl_toolkits.basemap import Basemap\n",
    "from pyproj import Proj\n",
    "\n",
    "##-- satellite info\n",
    "\n",
    "# Satellite height\n",
    "sat_h = data_goes.nominal_satellite_height[0].data*1e3 # in km\n",
    "\n",
    "# Satellite longitude\n",
    "sat_lon = data_goes.nominal_satellite_subpoint_lon[0].data\n",
    "\n",
    "##-- longitude and latitude\n",
    "\n",
    "p = Proj(proj='geos', h=sat_h, lon_0=sat_lon, sweep='x')\n",
    "\n",
    "# The projection x and y coordinates equals\n",
    "# the scanning angle (in radians) multiplied by the satellite height (http://proj4.org/projections/geos.html)\n",
    "X = data_goes.variables['x'][:] * sat_h\n",
    "Y = data_goes.variables['y'][:] * sat_h\n",
    "T = data_goes.variables['t'][:]\n",
    "\n",
    "XX, YY, TT = np.meshgrid(X, Y, T)\n",
    "goes_lons, goes_lats = p(XX, YY, inverse=True)\n",
    "\n",
    "lons[np.isinf(lons)] = np.nan\n",
    "lats[np.isinf(lats)] = np.nan\n",
    "\n",
    "# mask_valid = np.logical_not(np.isnan(pw_goes))\n",
    "# lons_goes_1D = lons[mask_valid]\n",
    "# lats_goes_1D = lats[mask_valid]\n",
    "# pw_goes_1D = pw_goes[mask_valid]"
   ]
  },
  {
   "cell_type": "code",
   "execution_count": 36,
   "metadata": {
    "ExecuteTime": {
     "end_time": "2021-04-20T11:09:11.193551Z",
     "start_time": "2021-04-20T11:09:11.189965Z"
    }
   },
   "outputs": [
    {
     "data": {
      "text/plain": [
       "datetime.datetime(2020, 1, 26, 0, 0, tzinfo=<UTC>)"
      ]
     },
     "execution_count": 36,
     "metadata": {},
     "output_type": "execute_result"
    }
   ],
   "source": [
    "date"
   ]
  },
  {
   "cell_type": "code",
   "execution_count": 62,
   "metadata": {
    "ExecuteTime": {
     "end_time": "2021-04-20T11:15:25.813076Z",
     "start_time": "2021-04-20T11:15:25.805980Z"
    }
   },
   "outputs": [
    {
     "name": "stdout",
     "output_type": "stream",
     "text": [
      "<xarray.Variable ()>\n",
      "array('2020-01-26T00:05:01.116525952', dtype='datetime64[ns]')\n",
      "Attributes:\n",
      "    long_name:      time variable (t) is the mid-point between the start and ...\n",
      "    standard_name:  time\n",
      "    axis:           T\n",
      "    bounds:         time_bounds\n",
      "20200126\n"
     ]
    },
    {
     "data": {
      "text/plain": [
       "datetime.datetime(1960, 2, 18, 14, 39, 48)"
      ]
     },
     "execution_count": 62,
     "metadata": {},
     "output_type": "execute_result"
    }
   ],
   "source": [
    "print(data_goes.variables['t'][0])\n",
    "print(np.datetime64(day))\n",
    "ts = (data_goes.variables['t'][0] - np.datetime64(day)) / np.timedelta64(1, 's')\n",
    "dt.utcfromtimestamp(ts)"
   ]
  },
  {
   "cell_type": "code",
   "execution_count": 63,
   "metadata": {
    "ExecuteTime": {
     "end_time": "2021-04-20T11:15:41.391549Z",
     "start_time": "2021-04-20T11:15:41.386865Z"
    }
   },
   "outputs": [
    {
     "data": {
      "text/plain": [
       "numpy.datetime64('20200126')"
      ]
     },
     "execution_count": 63,
     "metadata": {},
     "output_type": "execute_result"
    }
   ],
   "source": [
    "np.datetime64(day)"
   ]
  },
  {
   "cell_type": "code",
   "execution_count": null,
   "metadata": {},
   "outputs": [],
   "source": []
  }
 ],
 "metadata": {
  "hide_input": false,
  "kernelspec": {
   "display_name": "Python 3",
   "language": "python",
   "name": "python3"
  },
  "language_info": {
   "codemirror_mode": {
    "name": "ipython",
    "version": 3
   },
   "file_extension": ".py",
   "mimetype": "text/x-python",
   "name": "python",
   "nbconvert_exporter": "python",
   "pygments_lexer": "ipython3",
   "version": "3.7.6"
  },
  "toc": {
   "base_numbering": 1,
   "nav_menu": {},
   "number_sections": true,
   "sideBar": true,
   "skip_h1_title": false,
   "title_cell": "Table of Contents",
   "title_sidebar": "Contents",
   "toc_cell": false,
   "toc_position": {},
   "toc_section_display": true,
   "toc_window_display": false
  },
  "varInspector": {
   "cols": {
    "lenName": 16,
    "lenType": 16,
    "lenVar": 40
   },
   "kernels_config": {
    "python": {
     "delete_cmd_postfix": "",
     "delete_cmd_prefix": "del ",
     "library": "var_list.py",
     "varRefreshCmd": "print(var_dic_list())"
    },
    "r": {
     "delete_cmd_postfix": ") ",
     "delete_cmd_prefix": "rm(",
     "library": "var_list.r",
     "varRefreshCmd": "cat(var_dic_list()) "
    }
   },
   "types_to_exclude": [
    "module",
    "function",
    "builtin_function_or_method",
    "instance",
    "_Feature"
   ],
   "window_display": false
  }
 },
 "nbformat": 4,
 "nbformat_minor": 4
}
